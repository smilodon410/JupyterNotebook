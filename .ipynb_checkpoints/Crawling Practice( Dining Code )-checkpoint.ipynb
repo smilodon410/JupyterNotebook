{
 "cells": [
  {
   "cell_type": "markdown",
   "metadata": {},
   "source": [
    "* library 설치"
   ]
  },
  {
   "cell_type": "code",
   "execution_count": 1,
   "metadata": {
    "ExecuteTime": {
     "end_time": "2020-11-23T08:26:03.559393Z",
     "start_time": "2020-11-23T08:26:03.556400Z"
    },
    "scrolled": false
   },
   "outputs": [],
   "source": [
    "# pip install requests bs4"
   ]
  },
  {
   "cell_type": "markdown",
   "metadata": {},
   "source": [
    "* library 끌고 오기"
   ]
  },
  {
   "cell_type": "code",
   "execution_count": 2,
   "metadata": {
    "ExecuteTime": {
     "end_time": "2020-11-23T08:26:03.829712Z",
     "start_time": "2020-11-23T08:26:03.561388Z"
    }
   },
   "outputs": [],
   "source": [
    "import requests\n",
    "from bs4 import BeautifulSoup\n",
    "import re"
   ]
  },
  {
   "cell_type": "markdown",
   "metadata": {},
   "source": [
    "* 지역 선정"
   ]
  },
  {
   "cell_type": "code",
   "execution_count": 3,
   "metadata": {
    "ExecuteTime": {
     "end_time": "2020-11-23T08:26:03.835696Z",
     "start_time": "2020-11-23T08:26:03.831708Z"
    }
   },
   "outputs": [],
   "source": [
    "param = '수원'\n",
    "url = 'https://www.diningcode.com/list.php?query='+param"
   ]
  },
  {
   "cell_type": "markdown",
   "metadata": {},
   "source": [
    "* html file 을 가져 오고 parsing 하기"
   ]
  },
  {
   "cell_type": "code",
   "execution_count": 4,
   "metadata": {
    "ExecuteTime": {
     "end_time": "2020-11-23T08:26:04.233824Z",
     "start_time": "2020-11-23T08:26:03.837691Z"
    }
   },
   "outputs": [],
   "source": [
    "html = requests.get(url)\n",
    "soup = BeautifulSoup(html.text, 'html.parser')"
   ]
  },
  {
   "cell_type": "markdown",
   "metadata": {},
   "source": [
    "* 결과 뽑기"
   ]
  },
  {
   "cell_type": "code",
   "execution_count": 12,
   "metadata": {
    "ExecuteTime": {
     "end_time": "2020-11-23T08:45:58.326486Z",
     "start_time": "2020-11-23T08:45:58.309531Z"
    },
    "scrolled": true
   },
   "outputs": [
    {
     "name": "stdout",
     "output_type": "stream",
     "text": [
      "1. 가보정: 왕갈비, 갈비 = 76점\n",
      "2019대표맛집, vj특공대, 가족끼리\n",
      "\n",
      "2. 유치회관: 선지해장국, 해장국 = 74점\n",
      "수원경기도 수원시 팔달구 인계동 958-1\n",
      "\n",
      "3. 봉쥬르하와이: 스시피자, 술집 = 68점\n",
      "백종원의3대천왕, 원조\n",
      "\n",
      "4. 보영만두 본점: 쫄면, 찐만두 = 67점\n",
      "인계동경기도 수원시 팔달구 인계동 1132-4\n",
      "\n",
      "5. 연밀: 중국만두, 만두 = 67점\n",
      "식신로드, 이국적인분위기\n",
      "\n",
      "6. 진미통닭: 통닭, 닭똥집 = 67점\n",
      "광교앨리웨이경기도 수원시 영통구 원천동 593\n",
      "\n",
      "7. 포동이네: 초밥, 참치초밥 = 65점\n",
      "맛있는tv, 줄서서먹는\n",
      "\n",
      "8. 키와마루아지: 라멘, 돈코츠라멘 = 63점\n",
      "북문경기도 수원시 장안구 영화동 282-2\n",
      "\n",
      "9. 용성통닭: 통닭, 닭똥집 = 63점\n",
      "다코매거진선정, 줄서서먹는, 원조\n",
      "\n",
      "10. 이나경송탄부대찌개: 부대찌개, 소세지 = 63점\n",
      "수원경기도 수원시 팔달구 팔달로2가 42-5\n",
      "\n"
     ]
    }
   ],
   "source": [
    "restaurants = soup.find_all('span', attrs={'class':'btxt'})\n",
    "food = soup.find_all('span', attrs={'class':'stxt'})\n",
    "score = soup.find_all('span', attrs={'class':'point'})\n",
    "address = soup.find_all('span', attrs={'class': 'ctxt'})\n",
    "\n",
    "for line1, line2, line3, line4 in zip(restaurants[:], food[:], score[:], address[:]):\n",
    "    print(line1.get_text(), end=': ')\n",
    "    print(line2.get_text(), end=' = ')\n",
    "    print(line3.get_text())\n",
    "    print(line4.get_text())    \n",
    "    print('')"
   ]
  }
 ],
 "metadata": {
  "kernelspec": {
   "display_name": "Python 3",
   "language": "python",
   "name": "python3"
  },
  "language_info": {
   "codemirror_mode": {
    "name": "ipython",
    "version": 3
   },
   "file_extension": ".py",
   "mimetype": "text/x-python",
   "name": "python",
   "nbconvert_exporter": "python",
   "pygments_lexer": "ipython3",
   "version": "3.8.3"
  },
  "toc": {
   "base_numbering": 1,
   "nav_menu": {},
   "number_sections": true,
   "sideBar": true,
   "skip_h1_title": true,
   "title_cell": "Table of Contents",
   "title_sidebar": "Contents",
   "toc_cell": false,
   "toc_position": {},
   "toc_section_display": true,
   "toc_window_display": true
  }
 },
 "nbformat": 4,
 "nbformat_minor": 4
}
