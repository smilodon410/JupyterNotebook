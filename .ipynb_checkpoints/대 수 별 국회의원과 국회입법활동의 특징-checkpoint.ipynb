{
 "cells": [
  {
   "cell_type": "code",
   "execution_count": 1,
   "metadata": {
    "ExecuteTime": {
     "end_time": "2020-12-01T22:41:48.518553Z",
     "start_time": "2020-12-01T22:41:46.660930Z"
    }
   },
   "outputs": [],
   "source": [
    "import pandas as pd\n",
    "import numpy as np\n",
    "import seaborn as sns\n",
    "import matplotlib.pyplot as plt\n",
    "\n",
    "plt.rc('font',family='Malgun Gothic')\n",
    "plt.rc('axes',unicode_minus=False)\n",
    "from IPython.display import Image"
   ]
  },
  {
   "cell_type": "markdown",
   "metadata": {},
   "source": [
    "# 데이터 변수 설명\n",
    "- https://www.dacon.io/competitions/official/235679/talkboard/401866?page=1&dtype=recent&ptype=pub"
   ]
  },
  {
   "cell_type": "code",
   "execution_count": 2,
   "metadata": {
    "ExecuteTime": {
     "end_time": "2020-12-01T22:41:49.675344Z",
     "start_time": "2020-12-01T22:41:48.520548Z"
    },
    "scrolled": true
   },
   "outputs": [],
   "source": [
    "df_people = pd.read_csv('data/new_people.csv',encoding='cp949')\n",
    "df_process = pd.read_csv('data/process.csv',low_memory=False)\n",
    "df_suggest = pd.read_csv('data/suggest.csv')"
   ]
  },
  {
   "cell_type": "code",
   "execution_count": 3,
   "metadata": {
    "ExecuteTime": {
     "end_time": "2020-12-01T22:41:49.700375Z",
     "start_time": "2020-12-01T22:41:49.677230Z"
    }
   },
   "outputs": [],
   "source": [
    "pp = df_people.copy()\n",
    "pc = df_process.copy()\n",
    "sg = df_suggest.copy()"
   ]
  },
  {
   "cell_type": "code",
   "execution_count": 95,
   "metadata": {
    "ExecuteTime": {
     "end_time": "2020-12-02T03:59:24.104383Z",
     "start_time": "2020-12-02T03:59:24.084870Z"
    }
   },
   "outputs": [],
   "source": [
    "# 지역구 뽑기\n",
    "def region(pp):\n",
    "    pp_region = pp['DAE']\n",
    "    pp_region = pp_region.str.replace('(', '.')\n",
    "    pp_region = pp_region.str.replace(')', '.')\n",
    "    pp_region = pp_region.str.split('.')\n",
    "    a = []\n",
    "    for i in pp_region:\n",
    "        for j in range(len(i)):\n",
    "            if j % 2 != 0:\n",
    "                a.append(i[j])\n",
    "        print(a)\n",
    "        a = []    "
   ]
  },
  {
   "cell_type": "code",
   "execution_count": 4,
   "metadata": {
    "ExecuteTime": {
     "end_time": "2020-12-01T22:41:49.713242Z",
     "start_time": "2020-12-01T22:41:49.701273Z"
    }
   },
   "outputs": [
    {
     "data": {
      "text/plain": [
       "[21, 20, 19, 18, 17, 16, 15, 14, 13, 12, 11, 10, 9, 8, 7, 6, 5, 4, 3, 2, 1]"
      ]
     },
     "execution_count": 4,
     "metadata": {},
     "output_type": "execute_result"
    }
   ],
   "source": [
    "list_dae = pc.AGE.unique().tolist()\n",
    "list_dae"
   ]
  },
  {
   "cell_type": "code",
   "execution_count": 27,
   "metadata": {
    "ExecuteTime": {
     "end_time": "2020-12-01T22:48:23.253424Z",
     "start_time": "2020-12-01T22:48:23.233505Z"
    }
   },
   "outputs": [
    {
     "data": {
      "text/plain": [
       "118"
      ]
     },
     "execution_count": 27,
     "metadata": {},
     "output_type": "execute_result"
    }
   ],
   "source": [
    "# pp_dae1 ,pp_dae2 ....\n",
    "for i in list_dae:\n",
    "    globals()['pp_dae'+str(i)] = pp[pp.DAESU == i]\n",
    "pp_dae19['POSI'].isnull().sum()"
   ]
  },
  {
   "cell_type": "code",
   "execution_count": 96,
   "metadata": {
    "ExecuteTime": {
     "end_time": "2020-12-02T03:59:26.300731Z",
     "start_time": "2020-12-02T03:59:26.269498Z"
    }
   },
   "outputs": [
    {
     "name": "stdout",
     "output_type": "stream",
     "text": [
      "['산청']\n",
      "['하동']\n",
      "['목포']\n",
      "['함안']\n",
      "['인천갑', '인천을', '인천을', '인천을', '인천을']\n",
      "['창녕']\n",
      "['의성을', '의성을']\n",
      "['마산', '마산']\n",
      "['김천갑']\n",
      "['함양']\n",
      "['연백갑', '연백갑']\n",
      "['울진', '울진', '울진']\n",
      "['무주']\n",
      "['보은']\n",
      "['충주', '충주', '충주', '전국구']\n",
      "['양주갑']\n",
      "['서대문', '서대문갑', '서대문갑', '서대문갑', '전국', '전국']\n",
      "['용산']\n",
      "['서산을']\n",
      "['공주갑', '공주을']\n",
      "['여수갑']\n",
      "['진도']\n",
      "['장수']\n",
      "['청송', '청송']\n",
      "['고령']\n",
      "['마포', '마포갑', '마포', '마포']\n",
      "['장성']\n",
      "['나주을']\n",
      "['울산을', '울산갑']\n",
      "['동래']\n",
      "['안성']\n",
      "['고창갑']\n",
      "['광양']\n",
      "['당진']\n",
      "['무안갑']\n",
      "['천안', '천안']\n",
      "['달성']\n",
      "['파주']\n",
      "['수원을', '화성을']\n",
      "['안동갑', '안동을', '안동을', '안동을', '전국구']\n",
      "['영일을', '영일을', '영일을', '영일을']\n",
      "['경기 옹진 을']\n",
      "['완도']\n",
      "['통영갑']\n",
      "['정읍을']\n",
      "['구례']\n",
      "['영암', '영암', '영암', '영암', '영암', '자유민주당']\n",
      "['장흥']\n",
      "['삼척', '강원']\n",
      "['경주갑', '경주갑']\n",
      "['부여을']\n",
      "['창원갑']\n",
      "['합천을']\n",
      "['정읍갑', '정읍갑', '정읍갑', '정읍']\n",
      "['부여갑']\n",
      "['순창']\n",
      "['양평']\n",
      "['제천']\n",
      "['부산갑']\n",
      "['용인']\n",
      "['청주', '청주', '충북']\n",
      "['예천']\n",
      "['영일갑', '영일갑', '영일갑']\n",
      "['영동']\n",
      "['남해']\n",
      "['광산']\n",
      "['청도']\n",
      "['군위']\n",
      "['부산정', '부산진을', '부산진을', '통일주체국민회의']\n",
      "['밀양을']\n",
      "['경산', '경산', '경산', '경산']\n",
      "['봉화']\n",
      "['이리']\n",
      "['고창을']\n",
      "['대구병']\n",
      "['익산갑']\n",
      "['대구을', '대구을']\n",
      "['고양갑']\n",
      "['통영을']\n",
      "['아산']\n",
      "['곡성']\n",
      "['울릉', '울릉']\n",
      "['포천']\n",
      "['대전']\n",
      "['홍성']\n",
      "['해남갑']\n",
      "['대덕']\n",
      "['이천']\n",
      "['진천', '충북']\n",
      "['개풍', '개풍']\n",
      "['공주을']\n",
      "['김해갑']\n",
      "['전주']\n",
      "['광주', '광주', '광주']\n",
      "['무주', '무주']\n",
      "['연백을']\n",
      "['의령']\n",
      "['북제주을']\n",
      "['괴산', '괴산']\n",
      "['진안']\n",
      "['고흥갑']\n",
      "['남제주']\n",
      "['옹진갑']\n",
      "['영덕']\n",
      "['횡성']\n",
      "['여주']\n",
      "['강릉갑']\n",
      "['고흥을']\n",
      "['완주갑']\n",
      "['논산갑']\n",
      "['논산', '선산']\n",
      "['예산', '예산']\n",
      "['군산']\n",
      "['강화', '강화', '강화', '강화']\n",
      "['영등포', '영등포갑']\n",
      "['중구', '공주을', '중구갑', '전국구']\n",
      "['진주']\n",
      "['고성']\n",
      "['목포', '전남']\n",
      "['청원을']\n",
      "['익산을']\n",
      "['영천을']\n",
      "['김천을']\n",
      "['천안']\n",
      "['천안', '천안을', '천안,천원']\n",
      "['경주을']\n",
      "['완주을']\n",
      "['개성']\n",
      "['함평']\n",
      "['해남을']\n",
      "['동대문갑']\n",
      "['동대문을', '동대문을', '동대문을', '동대문을']\n",
      "['옥구']\n",
      "['합천갑', '전국구']\n",
      "['부천']\n",
      "['종로갑']\n",
      "['음성']\n",
      "['종로을', '영등포을', '서울']\n",
      "['홍천', '홍천', '홍천', '홍천', '홍천']\n",
      "['시흥', '시흥', '시흥', '시흥', '전국구', '전국구', '전국구']\n",
      "['남원']\n",
      "['보성', '보성', '보성']\n",
      "['청양']\n",
      "['서산갑', '서산갑']\n",
      "['춘성']\n",
      "['밀양갑']\n",
      "['양주을', '양주을']\n",
      "['나주갑']\n",
      "['성주']\n",
      "['서천', '충남']\n",
      "['보령']\n",
      "['안동을', '금산']\n",
      "['영월']\n",
      "['종로을', '용산갑']\n",
      "['칠곡']\n",
      "['무안을', '무안을']\n",
      "['상주을', '부산무', '부산을', '종로갑', '종로']\n",
      "['광주']\n",
      "['옥천']\n",
      "['담양']\n",
      "['영천갑']\n",
      "['의성갑']\n",
      "['김포', '김포', '김포', '김포']\n",
      "['양산']\n",
      "['금산']\n",
      "['안동을']\n",
      "['화순', '전남']\n",
      "['김해을']\n",
      "['문경']\n",
      "['인천을', '인천병']\n",
      "['영광', '영광', '영광', '영광']\n",
      "['순천을']\n",
      "['부안']\n",
      "['단양', '단양']\n",
      "['장단']\n",
      "['김제갑', '김제갑', '김제갑', '성동갑']\n",
      "['영양', '영양']\n",
      "['창원을']\n",
      "['성동', '성동갑']\n",
      "['임실']\n",
      "['연기']\n",
      "['강진']\n",
      "['고양을', '고양']\n",
      "['춘천', '양구']\n",
      "['사천']\n",
      "['울산갑']\n",
      "['영주']\n",
      "['평택']\n",
      "['논산을']\n",
      "['대구갑']\n",
      "['합천을', '합천을', '합천을']\n",
      "['정선']\n",
      "['강릉을', '강릉을']\n",
      "['거창']\n",
      "['부산병']\n",
      "['상주갑']\n",
      "['부산갑']\n",
      "['부산을']\n",
      "['수원갑', '수원', '수원', '수원']\n",
      "['원주', '원성']\n",
      "['동대문갑']\n",
      "['북제주갑']\n",
      "['청원갑']\n",
      "['가평', '가평', '가평', '가평', '포천,가평,연천', '전국구']\n",
      "['김제을']\n",
      "['순천갑']\n",
      "['여수을', '여천']\n",
      "['진양']\n",
      "['평창', '평창', '횡성,평창']\n"
     ]
    }
   ],
   "source": [
    "region(pp_dae1)\n",
    "# pp_dae1['DAE'].head(47)"
   ]
  },
  {
   "cell_type": "code",
   "execution_count": 6,
   "metadata": {
    "ExecuteTime": {
     "end_time": "2020-12-01T22:41:49.787853Z",
     "start_time": "2020-12-01T22:41:49.743023Z"
    }
   },
   "outputs": [],
   "source": [
    "# pc_dae1 ,pc_dae2 ....\n",
    "for i in list_dae:\n",
    "    globals()['pc_dae'+str(i)] = pc[pc.AGE == i]"
   ]
  },
  {
   "cell_type": "code",
   "execution_count": 7,
   "metadata": {
    "ExecuteTime": {
     "end_time": "2020-12-01T22:41:49.820668Z",
     "start_time": "2020-12-01T22:41:49.789748Z"
    }
   },
   "outputs": [],
   "source": [
    "# sg_dae1, sg_dae2 ...\n",
    "for i in list_dae:\n",
    "    globals()['sg_dae'+str(i)] = sg[sg.AGE == i]"
   ]
  }
 ],
 "metadata": {
  "kernelspec": {
   "display_name": "Python 3",
   "language": "python",
   "name": "python3"
  },
  "language_info": {
   "codemirror_mode": {
    "name": "ipython",
    "version": 3
   },
   "file_extension": ".py",
   "mimetype": "text/x-python",
   "name": "python",
   "nbconvert_exporter": "python",
   "pygments_lexer": "ipython3",
   "version": "3.8.3"
  },
  "toc": {
   "base_numbering": 1,
   "nav_menu": {},
   "number_sections": true,
   "sideBar": true,
   "skip_h1_title": false,
   "title_cell": "Table of Contents",
   "title_sidebar": "Contents",
   "toc_cell": false,
   "toc_position": {},
   "toc_section_display": true,
   "toc_window_display": false
  }
 },
 "nbformat": 4,
 "nbformat_minor": 4
}
