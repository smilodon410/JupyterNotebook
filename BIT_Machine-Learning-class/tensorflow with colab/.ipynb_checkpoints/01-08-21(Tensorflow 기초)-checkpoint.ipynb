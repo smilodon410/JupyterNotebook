{
 "cells": [
  {
   "cell_type": "markdown",
   "metadata": {
    "id": "ffUrafyZtWEt"
   },
   "source": [
    "# Tensor란?\n",
    "\n",
    "Tensor : 배열\n",
    "\n",
    "* Rank 시스템이 있는 배열\n",
    "* 0 Rank Tensor - Scalar - 상수\n",
    "* 1 Rank Tensor - Array(Vector) - 1차원 배열\n",
    "* 2 Rank Tensor - Matrix - 행렬\n",
    "* 3 Rank Tensor - Tensor - 3차원 배열\n",
    "* 4 Rank Tensor - Tensor - 4차원 배열..."
   ]
  },
  {
   "cell_type": "markdown",
   "metadata": {
    "id": "aZJVOAcEvXQN"
   },
   "source": [
    "# TensorFlow는?\n",
    "* Tensor가 지나다닐 수 있는 **계산그래프**를 만들어 놓고 Tensor를 흘려(Flow) 보낸다."
   ]
  },
  {
   "cell_type": "code",
   "execution_count": 1,
   "metadata": {
    "executionInfo": {
     "elapsed": 2773,
     "status": "ok",
     "timestamp": 1610089267697,
     "user": {
      "displayName": "대홍단감자",
      "photoUrl": "",
      "userId": "00978368663117252264"
     },
     "user_tz": -540
    },
    "id": "JIU_kK8bvyQt"
   },
   "outputs": [],
   "source": [
    "import tensorflow as tf\n",
    "import numpy as np"
   ]
  },
  {
   "cell_type": "code",
   "execution_count": 2,
   "metadata": {
    "colab": {
     "base_uri": "https://localhost:8080/"
    },
    "executionInfo": {
     "elapsed": 708,
     "status": "ok",
     "timestamp": 1610089343257,
     "user": {
      "displayName": "대홍단감자",
      "photoUrl": "",
      "userId": "00978368663117252264"
     },
     "user_tz": -540
    },
    "id": "8U9jjcx4zJE8",
    "outputId": "cdac0f7b-b3e6-410d-9580-3297cf950488"
   },
   "outputs": [
    {
     "data": {
      "text/plain": [
       "<tf.Tensor: shape=(3,), dtype=int32, numpy=array([1, 2, 3], dtype=int32)>"
      ]
     },
     "execution_count": 2,
     "metadata": {
      "tags": []
     },
     "output_type": "execute_result"
    }
   ],
   "source": [
    "# 각종 시퀀스를 Tensor로 변환이 가능\n",
    "\n",
    "# 1. list => tensor\n",
    "tf.constant([1, 2, 3])"
   ]
  },
  {
   "cell_type": "code",
   "execution_count": 3,
   "metadata": {
    "colab": {
     "base_uri": "https://localhost:8080/"
    },
    "executionInfo": {
     "elapsed": 608,
     "status": "ok",
     "timestamp": 1610089375219,
     "user": {
      "displayName": "대홍단감자",
      "photoUrl": "",
      "userId": "00978368663117252264"
     },
     "user_tz": -540
    },
    "id": "3clRDh_WzbKs",
    "outputId": "d254126c-f62a-4f07-d73e-b04f428fa47a"
   },
   "outputs": [
    {
     "data": {
      "text/plain": [
       "<tf.Tensor: shape=(3,), dtype=int32, numpy=array([1, 2, 3], dtype=int32)>"
      ]
     },
     "execution_count": 3,
     "metadata": {
      "tags": []
     },
     "output_type": "execute_result"
    }
   ],
   "source": [
    "# 2. tuple => tensor\n",
    "tf.constant((1, 2, 3))"
   ]
  },
  {
   "cell_type": "code",
   "execution_count": 4,
   "metadata": {
    "colab": {
     "base_uri": "https://localhost:8080/"
    },
    "executionInfo": {
     "elapsed": 644,
     "status": "ok",
     "timestamp": 1610089422115,
     "user": {
      "displayName": "대홍단감자",
      "photoUrl": "",
      "userId": "00978368663117252264"
     },
     "user_tz": -540
    },
    "id": "3pY75Rtszj5c",
    "outputId": "fa71e494-5349-48a5-9a3f-211f7dcd3156"
   },
   "outputs": [
    {
     "data": {
      "text/plain": [
       "<tf.Tensor: shape=(3,), dtype=int64, numpy=array([1, 2, 3])>"
      ]
     },
     "execution_count": 4,
     "metadata": {
      "tags": []
     },
     "output_type": "execute_result"
    }
   ],
   "source": [
    "# 3. ndarray => tensor\n",
    "arr = np.array([1, 2, 3])\n",
    "tf.constant(arr)"
   ]
  },
  {
   "cell_type": "markdown",
   "metadata": {
    "id": "nVy4ThT3zv2e"
   },
   "source": [
    "# Tensor 정보 확인하기"
   ]
  },
  {
   "cell_type": "code",
   "execution_count": 5,
   "metadata": {
    "colab": {
     "base_uri": "https://localhost:8080/"
    },
    "executionInfo": {
     "elapsed": 601,
     "status": "ok",
     "timestamp": 1610089485648,
     "user": {
      "displayName": "대홍단감자",
      "photoUrl": "",
      "userId": "00978368663117252264"
     },
     "user_tz": -540
    },
    "id": "LDXpkc3fzz4M",
    "outputId": "8b79f670-4e6e-4291-a15a-b0f8bf478a09"
   },
   "outputs": [
    {
     "data": {
      "text/plain": [
       "TensorShape([3])"
      ]
     },
     "execution_count": 5,
     "metadata": {
      "tags": []
     },
     "output_type": "execute_result"
    }
   ],
   "source": [
    "tensor = tf.constant(np.array([1, 2, 3]))\n",
    "tensor.shape"
   ]
  },
  {
   "cell_type": "code",
   "execution_count": 6,
   "metadata": {
    "colab": {
     "base_uri": "https://localhost:8080/"
    },
    "executionInfo": {
     "elapsed": 627,
     "status": "ok",
     "timestamp": 1610089535913,
     "user": {
      "displayName": "대홍단감자",
      "photoUrl": "",
      "userId": "00978368663117252264"
     },
     "user_tz": -540
    },
    "id": "ofjugGDcz97W",
    "outputId": "6f7c4d43-78a7-4974-932e-2e391c7a91c2"
   },
   "outputs": [
    {
     "data": {
      "text/plain": [
       "TensorShape([2, 5])"
      ]
     },
     "execution_count": 6,
     "metadata": {
      "tags": []
     },
     "output_type": "execute_result"
    }
   ],
   "source": [
    "tensor = tf.constant(np.arange(0, 10).reshape(2, 5))\n",
    "tensor.shape"
   ]
  },
  {
   "cell_type": "code",
   "execution_count": 7,
   "metadata": {
    "colab": {
     "base_uri": "https://localhost:8080/"
    },
    "executionInfo": {
     "elapsed": 626,
     "status": "ok",
     "timestamp": 1610089547786,
     "user": {
      "displayName": "대홍단감자",
      "photoUrl": "",
      "userId": "00978368663117252264"
     },
     "user_tz": -540
    },
    "id": "0V4KoGaZ0Kir",
    "outputId": "4ed03618-4b21-4924-ea04-a41dcc071d08"
   },
   "outputs": [
    {
     "data": {
      "text/plain": [
       "tf.int64"
      ]
     },
     "execution_count": 7,
     "metadata": {
      "tags": []
     },
     "output_type": "execute_result"
    }
   ],
   "source": [
    "tensor.dtype"
   ]
  },
  {
   "cell_type": "code",
   "execution_count": 8,
   "metadata": {
    "colab": {
     "base_uri": "https://localhost:8080/"
    },
    "executionInfo": {
     "elapsed": 644,
     "status": "ok",
     "timestamp": 1610089579042,
     "user": {
      "displayName": "대홍단감자",
      "photoUrl": "",
      "userId": "00978368663117252264"
     },
     "user_tz": -540
    },
    "id": "yJi3gwzI0KB8",
    "outputId": "56519a43-46e3-4c1d-99bc-1f068bf9c977"
   },
   "outputs": [
    {
     "data": {
      "text/plain": [
       "tf.float64"
      ]
     },
     "execution_count": 8,
     "metadata": {
      "tags": []
     },
     "output_type": "execute_result"
    }
   ],
   "source": [
    "tensor = tf.constant(np.random.randn(2, 3))\n",
    "tensor.dtype"
   ]
  },
  {
   "cell_type": "code",
   "execution_count": null,
   "metadata": {
    "id": "jzn70cKd0U89"
   },
   "outputs": [],
   "source": [
    "# 텐서를 구성하는 원소 중 데이터의 타입이 가장 큰 것이 텐서의 데이터 타입이 된다.\n",
    "# 예를 들어 텐서에 정수와 실수가 섞여있으면 텐서의 타입은 실수가 된다.\n",
    "\n",
    "tensor = tf.constant([1, 2.1, 3])\n",
    "tensor.dtype"
   ]
  },
  {
   "cell_type": "code",
   "execution_count": 9,
   "metadata": {
    "colab": {
     "base_uri": "https://localhost:8080/"
    },
    "executionInfo": {
     "elapsed": 667,
     "status": "ok",
     "timestamp": 1610089714243,
     "user": {
      "displayName": "대홍단감자",
      "photoUrl": "",
      "userId": "00978368663117252264"
     },
     "user_tz": -540
    },
    "id": "3SgHLCDH0UyE",
    "outputId": "1c7988c4-3a24-4926-b34c-ea597a7d5840"
   },
   "outputs": [
    {
     "data": {
      "text/plain": [
       "tf.float32"
      ]
     },
     "execution_count": 9,
     "metadata": {
      "tags": []
     },
     "output_type": "execute_result"
    }
   ],
   "source": [
    "# 강제로 데이터 타입을 지정\n",
    "tensor = tf.constant([1, 2, 3], dtype=tf.float32)\n",
    "tensor.dtype"
   ]
  },
  {
   "cell_type": "code",
   "execution_count": 12,
   "metadata": {
    "colab": {
     "base_uri": "https://localhost:8080/"
    },
    "executionInfo": {
     "elapsed": 648,
     "status": "ok",
     "timestamp": 1610090288103,
     "user": {
      "displayName": "대홍단감자",
      "photoUrl": "",
      "userId": "00978368663117252264"
     },
     "user_tz": -540
    },
    "id": "YxvOOiyn011q",
    "outputId": "58f59169-88f2-4cbc-b1fd-48b66ffa6290"
   },
   "outputs": [
    {
     "data": {
      "text/plain": [
       "tf.uint8"
      ]
     },
     "execution_count": 12,
     "metadata": {
      "tags": []
     },
     "output_type": "execute_result"
    }
   ],
   "source": [
    "# tf.cast 를 활용해서 텐서의 데이터 타입을 변경\n",
    "tf.cast(tensor, tf.uint8).dtype"
   ]
  },
  {
   "cell_type": "code",
   "execution_count": 13,
   "metadata": {
    "colab": {
     "base_uri": "https://localhost:8080/"
    },
    "executionInfo": {
     "elapsed": 769,
     "status": "ok",
     "timestamp": 1610090615372,
     "user": {
      "displayName": "대홍단감자",
      "photoUrl": "",
      "userId": "00978368663117252264"
     },
     "user_tz": -540
    },
    "id": "NL6VE6lS01wt",
    "outputId": "1f20819c-ddfc-4857-da83-613844f80dc9"
   },
   "outputs": [
    {
     "data": {
      "text/plain": [
       "array([1., 2., 3.], dtype=float32)"
      ]
     },
     "execution_count": 13,
     "metadata": {
      "tags": []
     },
     "output_type": "execute_result"
    }
   ],
   "source": [
    "# numpy와 tensorflow는 상호간에 호환이 가능\n",
    "\n",
    "# 1. tensor를 ndarray로 바꿔보기\n",
    "tensor.numpy()"
   ]
  },
  {
   "cell_type": "code",
   "execution_count": 14,
   "metadata": {
    "colab": {
     "base_uri": "https://localhost:8080/"
    },
    "executionInfo": {
     "elapsed": 632,
     "status": "ok",
     "timestamp": 1610090835349,
     "user": {
      "displayName": "대홍단감자",
      "photoUrl": "",
      "userId": "00978368663117252264"
     },
     "user_tz": -540
    },
    "id": "ogZtuLRU01h9",
    "outputId": "74f1c8bc-f2f4-46da-c5b4-da0827e88092"
   },
   "outputs": [
    {
     "data": {
      "text/plain": [
       "array([1., 2., 3.], dtype=float32)"
      ]
     },
     "execution_count": 14,
     "metadata": {
      "tags": []
     },
     "output_type": "execute_result"
    }
   ],
   "source": [
    "# np.array를 이용해서 tensor를 ndarray로 바꾸기\n",
    "np.array(tensor)"
   ]
  },
  {
   "cell_type": "markdown",
   "metadata": {
    "id": "9BkGQAHh5KBl"
   },
   "source": [
    "# Tensorflow의 난수 생성"
   ]
  },
  {
   "cell_type": "code",
   "execution_count": 15,
   "metadata": {
    "colab": {
     "base_uri": "https://localhost:8080/"
    },
    "executionInfo": {
     "elapsed": 627,
     "status": "ok",
     "timestamp": 1610090894117,
     "user": {
      "displayName": "대홍단감자",
      "photoUrl": "",
      "userId": "00978368663117252264"
     },
     "user_tz": -540
    },
    "id": "blg-RMRX5OM1",
    "outputId": "0068b9be-4900-4b44-947b-1fbc592ce48e"
   },
   "outputs": [
    {
     "data": {
      "text/plain": [
       "array([ 6.55633010e-01,  1.61397066e+00, -8.51681644e-01, -3.24937501e-01,\n",
       "        1.76707898e-01,  4.20356922e-04, -2.05369480e-01,  5.35344413e-01,\n",
       "       -2.61366145e-01])"
      ]
     },
     "execution_count": 15,
     "metadata": {
      "tags": []
     },
     "output_type": "execute_result"
    }
   ],
   "source": [
    "# numpy로 정규분포 만들기\n",
    "np.random.randn(9)"
   ]
  },
  {
   "cell_type": "code",
   "execution_count": 16,
   "metadata": {
    "colab": {
     "base_uri": "https://localhost:8080/"
    },
    "executionInfo": {
     "elapsed": 612,
     "status": "ok",
     "timestamp": 1610090936045,
     "user": {
      "displayName": "대홍단감자",
      "photoUrl": "",
      "userId": "00978368663117252264"
     },
     "user_tz": -540
    },
    "id": "e15yZJvo5Vuk",
    "outputId": "709dc6c9-89b9-453a-f8a5-21664c47a816"
   },
   "outputs": [
    {
     "data": {
      "text/plain": [
       "<tf.Tensor: shape=(3, 3), dtype=float32, numpy=\n",
       "array([[-0.6898024 , -1.5270109 ,  0.09168899],\n",
       "       [ 0.28537658,  0.6628939 , -1.2905841 ],\n",
       "       [ 0.92743444, -2.0191107 , -0.35576352]], dtype=float32)>"
      ]
     },
     "execution_count": 16,
     "metadata": {
      "tags": []
     },
     "output_type": "execute_result"
    }
   ],
   "source": [
    "# tensorflow로 정규분포 만들기\n",
    "tf.random.normal((3, 3))"
   ]
  },
  {
   "cell_type": "code",
   "execution_count": 17,
   "metadata": {
    "colab": {
     "base_uri": "https://localhost:8080/"
    },
    "executionInfo": {
     "elapsed": 672,
     "status": "ok",
     "timestamp": 1610090970613,
     "user": {
      "displayName": "대홍단감자",
      "photoUrl": "",
      "userId": "00978368663117252264"
     },
     "user_tz": -540
    },
    "id": "ZSWv3zIK5fzq",
    "outputId": "079136f0-741f-40de-f96e-d98f0c581e78"
   },
   "outputs": [
    {
     "data": {
      "text/plain": [
       "<tf.Tensor: shape=(3, 3), dtype=float32, numpy=\n",
       "array([[0.08536494, 0.34026957, 0.15079808],\n",
       "       [0.4850433 , 0.52614176, 0.6907536 ],\n",
       "       [0.9673277 , 0.5821061 , 0.3036914 ]], dtype=float32)>"
      ]
     },
     "execution_count": 17,
     "metadata": {
      "tags": []
     },
     "output_type": "execute_result"
    }
   ],
   "source": [
    "# tensorflow로 균등분포 만들기\n",
    "tf.random.uniform((3, 3))"
   ]
  },
  {
   "cell_type": "markdown",
   "metadata": {
    "id": "-glbqzqN5v7k"
   },
   "source": [
    "# Tensorflow로 One Hot Encoding"
   ]
  },
  {
   "cell_type": "code",
   "execution_count": 18,
   "metadata": {
    "executionInfo": {
     "elapsed": 642,
     "status": "ok",
     "timestamp": 1610091054781,
     "user": {
      "displayName": "대홍단감자",
      "photoUrl": "",
      "userId": "00978368663117252264"
     },
     "user_tz": -540
    },
    "id": "8eb17K0b5u3y"
   },
   "outputs": [],
   "source": [
    "from tensorflow.keras.utils import to_categorical"
   ]
  },
  {
   "cell_type": "code",
   "execution_count": 19,
   "metadata": {
    "colab": {
     "base_uri": "https://localhost:8080/"
    },
    "executionInfo": {
     "elapsed": 591,
     "status": "ok",
     "timestamp": 1610091077356,
     "user": {
      "displayName": "대홍단감자",
      "photoUrl": "",
      "userId": "00978368663117252264"
     },
     "user_tz": -540
    },
    "id": "vkGMDFzo5818",
    "outputId": "c7f2de2d-1879-4ffa-a643-8793b3e17d3e"
   },
   "outputs": [
    {
     "data": {
      "text/plain": [
       "array([0., 1., 0., 0., 0.], dtype=float32)"
      ]
     },
     "execution_count": 19,
     "metadata": {
      "tags": []
     },
     "output_type": "execute_result"
    }
   ],
   "source": [
    "to_categorical(1, 5)"
   ]
  }
 ],
 "metadata": {
  "accelerator": "TPU",
  "colab": {
   "authorship_tag": "ABX9TyOaVIeKJgqiKxG1yPmiVqC7",
   "collapsed_sections": [],
   "name": "01-08-21(Tensorflow 기초).ipynb",
   "provenance": []
  },
  "kernelspec": {
   "display_name": "Python 3",
   "language": "python",
   "name": "python3"
  },
  "language_info": {
   "codemirror_mode": {
    "name": "ipython",
    "version": 3
   },
   "file_extension": ".py",
   "mimetype": "text/x-python",
   "name": "python",
   "nbconvert_exporter": "python",
   "pygments_lexer": "ipython3",
   "version": "3.8.3"
  },
  "toc": {
   "base_numbering": 1,
   "nav_menu": {},
   "number_sections": true,
   "sideBar": true,
   "skip_h1_title": true,
   "title_cell": "Table of Contents",
   "title_sidebar": "Contents",
   "toc_cell": false,
   "toc_position": {},
   "toc_section_display": true,
   "toc_window_display": true
  }
 },
 "nbformat": 4,
 "nbformat_minor": 1
}
