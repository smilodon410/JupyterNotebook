{
 "cells": [
  {
   "cell_type": "code",
   "execution_count": 1,
   "metadata": {
    "ExecuteTime": {
     "end_time": "2021-01-06T05:42:22.446681Z",
     "start_time": "2021-01-06T05:42:22.441667Z"
    }
   },
   "outputs": [],
   "source": [
    "from common.functions import *\n",
    "from common.gradient import numerical_gradient"
   ]
  },
  {
   "cell_type": "code",
   "execution_count": 2,
   "metadata": {
    "ExecuteTime": {
     "end_time": "2021-01-06T06:47:22.322030Z",
     "start_time": "2021-01-06T06:47:22.312056Z"
    }
   },
   "outputs": [],
   "source": [
    "class TwoLayerNet:\n",
    "    # input_size : 입력의 데이터 shape\n",
    "    # hidden_size : 은닉층의 뉴런 개수\n",
    "    # output_size : 출력층의  뉴런 개수\n",
    "    # weight_init_std : \n",
    "    \n",
    "    def __init__(self, input_size, hidden_size, output_size, weight_init_std=0.01):\n",
    "        self.W1 = np.random.randn(input_size, hidden_size)\n",
    "        self.W2 = np.random.randn(hidden_size, output_size)\n",
    "        self.b1 = np.random.randn(hidden_size)\n",
    "        self.b2 = np.random.randn(output_size)\n",
    "    \n",
    "    def predict(self, x):\n",
    "        z1 = np.dot(x, self.W1) + self.b1\n",
    "        a1 = sigmoid(z1)\n",
    "        z2 = np.dot(a1, self.W2) + self.b2\n",
    "        y = softmax(z2)\n",
    "        \n",
    "        return y\n",
    "        \n",
    "    \n",
    "    def loss(self, x, t):\n",
    "        y = predict(x)\n",
    "        loss_val = cross_entropy_error(y, t)\n",
    "        return loss_val\n",
    "\n",
    "    def accuracy(x, t):\n",
    "        pass\n",
    "    \n",
    "    # 매개 변수들의 기울기 배열을 구하는 함수\n",
    "    def numerical_gradient_params(self, x, t):\n",
    "        loss_W = lambda W : self.loss(x, t)\n",
    "        \n",
    "        grads = {}\n",
    "        \n",
    "        grads[\"W1\"] = numerical_gradient(loss_W, self.W1)\n",
    "        grads[\"b1\"] = numerical_gradient(loss_W, self.b1)\n",
    "        \n",
    "        grads[\"W2\"] = numerical_gradient(loss_W, self.W2)\n",
    "        grads[\"b2\"] = numerical_gradient(loss_W, self.b2)\n",
    "        \n",
    "        return grads"
   ]
  },
  {
   "cell_type": "code",
   "execution_count": null,
   "metadata": {},
   "outputs": [],
   "source": []
  },
  {
   "cell_type": "code",
   "execution_count": null,
   "metadata": {},
   "outputs": [],
   "source": []
  },
  {
   "cell_type": "code",
   "execution_count": null,
   "metadata": {},
   "outputs": [],
   "source": []
  },
  {
   "cell_type": "code",
   "execution_count": null,
   "metadata": {},
   "outputs": [],
   "source": []
  },
  {
   "cell_type": "code",
   "execution_count": null,
   "metadata": {},
   "outputs": [],
   "source": []
  },
  {
   "cell_type": "code",
   "execution_count": null,
   "metadata": {},
   "outputs": [],
   "source": []
  },
  {
   "cell_type": "code",
   "execution_count": null,
   "metadata": {},
   "outputs": [],
   "source": []
  },
  {
   "cell_type": "code",
   "execution_count": null,
   "metadata": {},
   "outputs": [],
   "source": []
  },
  {
   "cell_type": "code",
   "execution_count": null,
   "metadata": {},
   "outputs": [],
   "source": []
  },
  {
   "cell_type": "code",
   "execution_count": null,
   "metadata": {},
   "outputs": [],
   "source": []
  },
  {
   "cell_type": "code",
   "execution_count": null,
   "metadata": {},
   "outputs": [],
   "source": []
  },
  {
   "cell_type": "code",
   "execution_count": null,
   "metadata": {},
   "outputs": [],
   "source": []
  },
  {
   "cell_type": "code",
   "execution_count": null,
   "metadata": {},
   "outputs": [],
   "source": []
  }
 ],
 "metadata": {
  "kernelspec": {
   "display_name": "Python 3",
   "language": "python",
   "name": "python3"
  },
  "language_info": {
   "codemirror_mode": {
    "name": "ipython",
    "version": 3
   },
   "file_extension": ".py",
   "mimetype": "text/x-python",
   "name": "python",
   "nbconvert_exporter": "python",
   "pygments_lexer": "ipython3",
   "version": "3.8.3"
  },
  "toc": {
   "base_numbering": 1,
   "nav_menu": {},
   "number_sections": true,
   "sideBar": true,
   "skip_h1_title": true,
   "title_cell": "Table of Contents",
   "title_sidebar": "Contents",
   "toc_cell": false,
   "toc_position": {},
   "toc_section_display": true,
   "toc_window_display": true
  }
 },
 "nbformat": 4,
 "nbformat_minor": 4
}
