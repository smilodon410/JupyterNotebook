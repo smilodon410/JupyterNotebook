{
 "cells": [
  {
   "cell_type": "code",
   "execution_count": 1,
   "metadata": {
    "ExecuteTime": {
     "end_time": "2021-01-04T06:43:24.409841Z",
     "start_time": "2021-01-04T06:43:24.259079Z"
    }
   },
   "outputs": [],
   "source": [
    "import numpy as np\n",
    "import warnings\n",
    "\n",
    "warnings.filterwarnings('ignore')"
   ]
  },
  {
   "cell_type": "markdown",
   "metadata": {},
   "source": [
    "## 출력층의 활성화 함수\n",
    "* 이진 분류( Binary Classification ) : $softmax$, $sigmoid$ 함수를 주로 사용\n",
    "* 다중 분류( Multiple Classification ) : $softmax$\n",
    "* 보통 진천후 $softmax$ 함수를 주로 사용하는 추세, $sigmoid$를 출력층의 활성화 함수로 주로 사용할 때에는 **출력층의 뉴런은 한개로 설정한다**\n",
    "\n",
    "$$\n",
    "y_k = \\frac{exp(a_k)}{\\sum_{i=1}^n exp(a_i)}\n",
    "$$"
   ]
  },
  {
   "cell_type": "code",
   "execution_count": 2,
   "metadata": {
    "ExecuteTime": {
     "end_time": "2021-01-04T06:43:24.426757Z",
     "start_time": "2021-01-04T06:43:24.412794Z"
    }
   },
   "outputs": [
    {
     "data": {
      "text/plain": [
       "'softmax 결정값 : [0.01821127 0.24519181 0.73659691]'"
      ]
     },
     "execution_count": 2,
     "metadata": {},
     "output_type": "execute_result"
    }
   ],
   "source": [
    "# Softmax  함수 구현하기 - 원리\n",
    "a = np.array([0.3, 2.9, 4.0])\n",
    "\n",
    "# 분자 계산\n",
    "a_exp = np.exp(a)\n",
    "\n",
    "# 분모 계산\n",
    "a_sum_exp = np.sum(a_exp)\n",
    "\n",
    "a_softmax = a_exp / a_sum_exp\n",
    "\"softmax 결정값 : {}\".format(a_softmax)"
   ]
  },
  {
   "cell_type": "code",
   "execution_count": 3,
   "metadata": {
    "ExecuteTime": {
     "end_time": "2021-01-04T06:43:24.434762Z",
     "start_time": "2021-01-04T06:43:24.429753Z"
    }
   },
   "outputs": [],
   "source": [
    "# softmax 함수 직접 구현\n",
    "def softmax(a):\n",
    "    exp_a = np.exp(a)\n",
    "    sum_exp_a = np.sum(exp_a)\n",
    "    y = exp_a / sum_exp_a\n",
    "    \n",
    "    return y"
   ]
  },
  {
   "cell_type": "code",
   "execution_count": 4,
   "metadata": {
    "ExecuteTime": {
     "end_time": "2021-01-04T06:43:24.447711Z",
     "start_time": "2021-01-04T06:43:24.436729Z"
    }
   },
   "outputs": [
    {
     "data": {
      "text/plain": [
       "array([0.01821127, 0.24519181, 0.73659691])"
      ]
     },
     "execution_count": 4,
     "metadata": {},
     "output_type": "execute_result"
    }
   ],
   "source": [
    "softmax(a)"
   ]
  },
  {
   "cell_type": "markdown",
   "metadata": {},
   "source": [
    "* $softmax$ 함수 튜닝하기"
   ]
  },
  {
   "cell_type": "code",
   "execution_count": 5,
   "metadata": {
    "ExecuteTime": {
     "end_time": "2021-01-04T06:43:24.457675Z",
     "start_time": "2021-01-04T06:43:24.450693Z"
    }
   },
   "outputs": [
    {
     "data": {
      "text/plain": [
       "array([nan, nan, nan])"
      ]
     },
     "execution_count": 5,
     "metadata": {},
     "output_type": "execute_result"
    }
   ],
   "source": [
    "big_a = np.array([1010, 1000, 990])\n",
    "softmax(big_a)"
   ]
  },
  {
   "cell_type": "markdown",
   "metadata": {},
   "source": [
    "* 오버플로우 발생 원인\n",
    "    * exp 함수는 지수 함수\n",
    "    * 지수 1000 이상 : 컴퓨팅 시스템에서 무한대 $inf$를 의미\n",
    "    \n",
    "* 해결 방안 : $log$ 활용\n",
    "    * 지수함수에서 $log$는 뺄셈을 의미"
   ]
  },
  {
   "cell_type": "markdown",
   "metadata": {},
   "source": [
    "$$\n",
    "y_k = \\frac{exp(a_k)}{\\sum_{i=1}^n exp(a_i)} = \\frac{C\\,exp(a_k)}{C\\,\\sum_{i=1}^n exp(a_i)} = \\frac{exp(a_k+logC)}{\\sum_{i=1}^n exp(a_i+logC)} = \\frac{exp(a_k+C^\\prime)}{\\sum_{i=1}^n exp(a_i+C^\\prime)} \n",
    "$$\n",
    "\n",
    "* 전개 과정\n",
    "    1. 분자와 분모에 $C$라는 임의의 정수를 곱한다\n",
    "    2. $C$를 지수 함수 $exp$안으로 옮겨서 $log C$로 만들어 준다\n",
    "    3. $log C$를 $C'$이라는 새로운 기호로 바꿔준다"
   ]
  },
  {
   "cell_type": "code",
   "execution_count": 6,
   "metadata": {
    "ExecuteTime": {
     "end_time": "2021-01-04T06:43:24.466649Z",
     "start_time": "2021-01-04T06:43:24.460666Z"
    }
   },
   "outputs": [
    {
     "data": {
      "text/plain": [
       "array([  0, -10, -20])"
      ]
     },
     "execution_count": 6,
     "metadata": {},
     "output_type": "execute_result"
    }
   ],
   "source": [
    "# 보통 상수 C는 입력값 중에 제일 큰값으로 선정한다. \n",
    "c = np.max(big_a)\n",
    "d = big_a - c\n",
    "d"
   ]
  },
  {
   "cell_type": "code",
   "execution_count": 7,
   "metadata": {
    "ExecuteTime": {
     "end_time": "2021-01-04T06:43:24.478617Z",
     "start_time": "2021-01-04T06:43:24.470639Z"
    }
   },
   "outputs": [
    {
     "data": {
      "text/plain": [
       "array([9.99954600e-01, 4.53978686e-05, 2.06106005e-09])"
      ]
     },
     "execution_count": 7,
     "metadata": {},
     "output_type": "execute_result"
    }
   ],
   "source": [
    "np.exp(d) / np.sum(np.exp(d))"
   ]
  },
  {
   "cell_type": "code",
   "execution_count": 8,
   "metadata": {
    "ExecuteTime": {
     "end_time": "2021-01-04T06:43:24.486595Z",
     "start_time": "2021-01-04T06:43:24.481609Z"
    }
   },
   "outputs": [],
   "source": [
    "# softmax 튜닝\n",
    "def softmax(a):\n",
    "    c = np.max(a)\n",
    "    exp_a = np.exp( a - c )  # a + log C\n",
    "    sum_exp = np.sum(exp_a)\n",
    "    y = exp_a / sum_exp\n",
    "    \n",
    "    return y"
   ]
  },
  {
   "cell_type": "code",
   "execution_count": 9,
   "metadata": {
    "ExecuteTime": {
     "end_time": "2021-01-04T06:43:24.498569Z",
     "start_time": "2021-01-04T06:43:24.488590Z"
    }
   },
   "outputs": [
    {
     "name": "stdout",
     "output_type": "stream",
     "text": [
      "softmax 결과 : [9.99954600e-01 4.53978686e-05 2.06106005e-09]\n",
      "softmax 총합 : 1.0\n"
     ]
    }
   ],
   "source": [
    "big_y = softmax(big_a)\n",
    "print(\"softmax 결과 : {}\".format(big_y))\n",
    "print(\"softmax 총합 : {}\".format(np.sum(big_y)))"
   ]
  },
  {
   "cell_type": "code",
   "execution_count": 10,
   "metadata": {
    "ExecuteTime": {
     "end_time": "2021-01-04T06:43:24.505546Z",
     "start_time": "2021-01-04T06:43:24.500558Z"
    }
   },
   "outputs": [
    {
     "name": "stdout",
     "output_type": "stream",
     "text": [
      "softmax 결과 : [0.01821127 0.24519181 0.73659691]\n",
      "softmax 총합 : 1.0\n"
     ]
    }
   ],
   "source": [
    "y = softmax(a)\n",
    "print(\"softmax 결과 : {}\".format(y))\n",
    "print(\"softmax 총합 : {}\".format(np.sum(y)))"
   ]
  },
  {
   "cell_type": "markdown",
   "metadata": {},
   "source": [
    "## 텐서플로우 MNIST 데이터 불러오고 형상 다루기"
   ]
  },
  {
   "cell_type": "code",
   "execution_count": 11,
   "metadata": {
    "ExecuteTime": {
     "end_time": "2021-01-04T06:43:27.609970Z",
     "start_time": "2021-01-04T06:43:24.508539Z"
    }
   },
   "outputs": [],
   "source": [
    "import tensorflow as tf\n",
    "import matplotlib.pyplot as plt"
   ]
  },
  {
   "cell_type": "code",
   "execution_count": 12,
   "metadata": {
    "ExecuteTime": {
     "end_time": "2021-01-04T06:43:27.906315Z",
     "start_time": "2021-01-04T06:43:27.610933Z"
    }
   },
   "outputs": [],
   "source": [
    "# mnist 데이터 셋 로딩\n",
    "from tensorflow.keras import datasets\n",
    "\n",
    "mnist = datasets.mnist\n",
    "(x_train, y_train), (x_test, y_test) = mnist.load_data()"
   ]
  },
  {
   "cell_type": "code",
   "execution_count": 13,
   "metadata": {
    "ExecuteTime": {
     "end_time": "2021-01-04T06:43:27.912222Z",
     "start_time": "2021-01-04T06:43:27.908216Z"
    }
   },
   "outputs": [
    {
     "data": {
      "text/plain": [
       "(60000, 28, 28)"
      ]
     },
     "execution_count": 13,
     "metadata": {},
     "output_type": "execute_result"
    }
   ],
   "source": [
    "x_train.shape"
   ]
  },
  {
   "cell_type": "code",
   "execution_count": 14,
   "metadata": {
    "ExecuteTime": {
     "end_time": "2021-01-04T06:43:27.924191Z",
     "start_time": "2021-01-04T06:43:27.914188Z"
    }
   },
   "outputs": [
    {
     "data": {
      "text/plain": [
       "(60000,)"
      ]
     },
     "execution_count": 14,
     "metadata": {},
     "output_type": "execute_result"
    }
   ],
   "source": [
    "y_train.shape"
   ]
  },
  {
   "cell_type": "code",
   "execution_count": 15,
   "metadata": {
    "ExecuteTime": {
     "end_time": "2021-01-04T06:43:27.932170Z",
     "start_time": "2021-01-04T06:43:27.926156Z"
    }
   },
   "outputs": [
    {
     "data": {
      "text/plain": [
       "(28, 28)"
      ]
     },
     "execution_count": 15,
     "metadata": {},
     "output_type": "execute_result"
    }
   ],
   "source": [
    "# 이미지 시각화\n",
    "image = x_train[0]\n",
    "image.shape"
   ]
  },
  {
   "cell_type": "code",
   "execution_count": 16,
   "metadata": {
    "ExecuteTime": {
     "end_time": "2021-01-04T06:43:28.074845Z",
     "start_time": "2021-01-04T06:43:27.934135Z"
    }
   },
   "outputs": [
    {
     "data": {
      "image/png": "[encoded data removed]",
      "text/plain": [
       "<Figure size 432x288 with 1 Axes>"
      ]
     },
     "metadata": {
      "needs_background": "light"
     },
     "output_type": "display_data"
    }
   ],
   "source": [
    "# matplotlib의 imshow 이용해서 이미지 시각화\n",
    "plt.imshow(image, 'gray')\n",
    "plt.title(y_train[0])\n",
    "plt.show()"
   ]
  },
  {
   "cell_type": "code",
   "execution_count": 17,
   "metadata": {
    "ExecuteTime": {
     "end_time": "2021-01-04T06:43:28.199147Z",
     "start_time": "2021-01-04T06:43:28.076833Z"
    }
   },
   "outputs": [
    {
     "data": {
      "image/png": "[encoded data removed]",
      "text/plain": [
       "<Figure size 432x288 with 1 Axes>"
      ]
     },
     "metadata": {
      "needs_background": "light"
     },
     "output_type": "display_data"
    }
   ],
   "source": [
    "plt.imshow(x_train[1], 'gray')\n",
    "plt.title(y_train[1])\n",
    "plt.show()"
   ]
  },
  {
   "cell_type": "markdown",
   "metadata": {},
   "source": [
    "* 신경망에 넣을 준비 : 훈련과 학습 모두 동일 => 1차원 형태로 데이터를 받는 레이어를 다음과 같이 이야기\n",
    "    * 신경망 - Dense Layer\n",
    "    * 기하학 - Affine Layer\n",
    "    * 통합적 - Fully Connected Layer\n",
    "    \n",
    "* 공통점 : 입력되는 데이터의 차원이 (N, M)\n",
    "    * N : N은 BATCH_SIZE\n",
    "    * M : M은 데이터의 스칼라 갯수\n",
    "    * 배치를 이야기 하지 않으면 (M,)\n",
    "    * 배치를 이야기 하면 (N, M)\n",
    "* CNN은 Fully Connected Layer가 아니고 2차원 배치 데이터를 사용하기 때문에 입력 데이터의 형상이 (N, H, W, C) 가 된다."
   ]
  },
  {
   "cell_type": "code",
   "execution_count": 18,
   "metadata": {
    "ExecuteTime": {
     "end_time": "2021-01-04T06:43:28.207121Z",
     "start_time": "2021-01-04T06:43:28.201137Z"
    }
   },
   "outputs": [
    {
     "data": {
      "text/plain": [
       "(784,)"
      ]
     },
     "execution_count": 18,
     "metadata": {},
     "output_type": "execute_result"
    }
   ],
   "source": [
    "image = x_train[0].flatten()\n",
    "image.shape"
   ]
  },
  {
   "cell_type": "markdown",
   "metadata": {},
   "source": [
    "* ravel()은 잘 사용하지 않는다 => 이미지가 훼손될 염려가 있기 때문"
   ]
  },
  {
   "cell_type": "markdown",
   "metadata": {},
   "source": [
    "* 위처럼 2차원 데이터를 1차원으로 펴는 작업을 **데이터 평탄화**라고 한다"
   ]
  },
  {
   "cell_type": "code",
   "execution_count": 19,
   "metadata": {
    "ExecuteTime": {
     "end_time": "2021-01-04T06:43:28.332359Z",
     "start_time": "2021-01-04T06:43:28.209115Z"
    }
   },
   "outputs": [
    {
     "data": {
      "image/png": "[encoded data removed]",
      "text/plain": [
       "<Figure size 432x288 with 1 Axes>"
      ]
     },
     "metadata": {
      "needs_background": "light"
     },
     "output_type": "display_data"
    }
   ],
   "source": [
    "# 이미지 원래대로 복구\n",
    "image_bokgu = image.reshape(28, 28)\n",
    "plt.imshow(image_bokgu, 'gray')\n",
    "plt.show()"
   ]
  },
  {
   "cell_type": "markdown",
   "metadata": {},
   "source": [
    "* MINST 손글씨 데이터 셋을 위한 신경망 만들기 - Fully Connected Layer( ANN - Affine Neural Network )"
   ]
  },
  {
   "cell_type": "code",
   "execution_count": 28,
   "metadata": {
    "ExecuteTime": {
     "end_time": "2021-01-04T06:51:00.025817Z",
     "start_time": "2021-01-04T06:51:00.016840Z"
    }
   },
   "outputs": [],
   "source": [
    "# 활성화 함수 구현\n",
    "def sigmoid(x):\n",
    "    return 1 / (1 + np.exp(-x))\n",
    "\n",
    "# 테스트용 데이터 가져 오기\n",
    "def get_test_data():\n",
    "    mnist = datasets.mnist\n",
    "    (x_train, y_train), (x_test, y_test) = mnist.load_data()\n",
    "    # x_test를 평탄화 시켜서 리턴 (N,M 형태로 리턴)\n",
    "    # 내 방법\n",
    "#     b = x_test[:].flatten()\n",
    "#     c = b.reshape(10000, 784)\n",
    "    \n",
    "    # 정답\n",
    "    image_size = x_test.shape[0]\n",
    "    x_test_reshaped = x_test.reshape(image_size, -1)\n",
    "    return x_test_reshaped, y_test\n",
    "\n",
    "# 훈련된 신경망 가져오기\n",
    "def init_network():\n",
    "    import pickle\n",
    "    with open('./sample_weight.pkl', 'rb') as f:\n",
    "        network = pickle.load(f)\n",
    "        \n",
    "    return network\n",
    "\n",
    "def predict(network, x):\n",
    "    network = init_network()\n",
    "\n",
    "    W1, W2, W3 = network['W1'], network['W2'], network['W3']\n",
    "    b1, b2, b3 = network['b1'], network['b2'], network['b3']\n",
    "    \n",
    "    # 구현시에 나는 대부분의 오류는 데이터 shape 때문\n",
    "    # 1. 각 층에서 입력되는 값과 해당층의 가중치를 곱하고 편향을 더한다\n",
    "    # 2. (1)에 의해서 계산된 값에 각 층의 활성화 함수를 씌워주고 다음 층으로 이동\n",
    "    \n",
    "    # Layer 1 계산하기 ( 입력 : x )\n",
    "    z1 = np.dot(x, W1) + b1\n",
    "    a1 = sigmoid(z1)\n",
    "    \n",
    "    # Layer 2 계산하기 ( 입력 : a1 )\n",
    "    z2 = np.dot(a1, W2) + b2\n",
    "    a2 = sigmoid(z2)\n",
    "    \n",
    "    # Layer 3 계산하기 ( 입력 : a2 ) - 출력층이기 때문에 softmax 함수 활용\n",
    "    z3 = np.dot(a2, W3) + b3\n",
    "    y  = softmax(z3)\n",
    "    \n",
    "    return y"
   ]
  },
  {
   "cell_type": "code",
   "execution_count": 21,
   "metadata": {
    "ExecuteTime": {
     "end_time": "2021-01-04T06:43:28.424084Z",
     "start_time": "2021-01-04T06:43:28.416106Z"
    }
   },
   "outputs": [
    {
     "data": {
      "text/plain": [
       "((784, 50), (50, 100), (100, 10))"
      ]
     },
     "execution_count": 21,
     "metadata": {},
     "output_type": "execute_result"
    }
   ],
   "source": [
    "network = init_network()\n",
    "\n",
    "w1, w2, w3 = network['W1'], network['W2'], network['W3']\n",
    "b1, b2, b3 = network['b1'], network['b2'], network['b3']\n",
    "\n",
    "w1.shape, w2.shape, w3.shape"
   ]
  },
  {
   "cell_type": "code",
   "execution_count": 22,
   "metadata": {
    "ExecuteTime": {
     "end_time": "2021-01-04T06:43:28.432063Z",
     "start_time": "2021-01-04T06:43:28.427077Z"
    }
   },
   "outputs": [
    {
     "data": {
      "text/plain": [
       "((50,), (100,), (10,))"
      ]
     },
     "execution_count": 22,
     "metadata": {},
     "output_type": "execute_result"
    }
   ],
   "source": [
    "b1.shape, b2.shape, b3.shape"
   ]
  },
  {
   "cell_type": "markdown",
   "metadata": {},
   "source": [
    "* 목적 - 이미지 한장을 예측( predict )\n",
    "    * 각 은닉층의 함수는 $sigmoid$로 설정\n",
    "    * 제일 마지막 출력층의 함수는 $softmax$로 설정"
   ]
  },
  {
   "cell_type": "markdown",
   "metadata": {},
   "source": [
    "* 이미지 한장을 예측(predict)\n",
    "    * 각 은닉층의 활성화 함수는 $sigmoid$로 설정 \n",
    "    * 출력층의 활성화 함수는 $softmax$로 설정"
   ]
  },
  {
   "cell_type": "code",
   "execution_count": 26,
   "metadata": {
    "ExecuteTime": {
     "end_time": "2021-01-04T06:48:34.435759Z",
     "start_time": "2021-01-04T06:48:34.151519Z"
    }
   },
   "outputs": [
    {
     "data": {
      "text/plain": [
       "((784,), ())"
      ]
     },
     "execution_count": 26,
     "metadata": {},
     "output_type": "execute_result"
    }
   ],
   "source": [
    "x, y = get_test_data()\n",
    "\n",
    "test_image, test_target = x[0], y[0]\n",
    "\n",
    "test_image.shape, test_target.shape"
   ]
  },
  {
   "cell_type": "code",
   "execution_count": 29,
   "metadata": {
    "ExecuteTime": {
     "end_time": "2021-01-04T06:51:03.397135Z",
     "start_time": "2021-01-04T06:51:03.391123Z"
    }
   },
   "outputs": [
    {
     "data": {
      "text/plain": [
       "(array([4.2879005e-06, 4.5729314e-07, 1.8486282e-04, 8.3604944e-05,\n",
       "        1.5084689e-07, 6.3182205e-07, 4.5782045e-10, 9.9919468e-01,\n",
       "        3.8066935e-07, 5.3083024e-04], dtype=float32),\n",
       " 7)"
      ]
     },
     "execution_count": 29,
     "metadata": {},
     "output_type": "execute_result"
    }
   ],
   "source": [
    "network = init_network()\n",
    "\n",
    "test_result = predict(network, test_image)\n",
    "test_result, test_target"
   ]
  },
  {
   "cell_type": "code",
   "execution_count": 30,
   "metadata": {
    "ExecuteTime": {
     "end_time": "2021-01-04T06:51:10.469230Z",
     "start_time": "2021-01-04T06:51:10.464277Z"
    }
   },
   "outputs": [
    {
     "data": {
      "text/plain": [
       "True"
      ]
     },
     "execution_count": 30,
     "metadata": {},
     "output_type": "execute_result"
    }
   ],
   "source": [
    "np.argmax(test_result) == test_target"
   ]
  },
  {
   "cell_type": "code",
   "execution_count": 31,
   "metadata": {
    "ExecuteTime": {
     "end_time": "2021-01-04T06:51:16.073706Z",
     "start_time": "2021-01-04T06:51:15.955990Z"
    }
   },
   "outputs": [
    {
     "data": {
      "image/png": "[encoded data removed]",
      "text/plain": [
       "<Figure size 432x288 with 1 Axes>"
      ]
     },
     "metadata": {
      "needs_background": "light"
     },
     "output_type": "display_data"
    }
   ],
   "source": [
    "plt.imshow(test_image.reshape(28, 28), 'gray')\n",
    "plt.title(test_target)\n",
    "plt.show()"
   ]
  },
  {
   "cell_type": "markdown",
   "metadata": {},
   "source": [
    "* network의 정확도 accuracy 구하기"
   ]
  },
  {
   "cell_type": "code",
   "execution_count": 32,
   "metadata": {
    "ExecuteTime": {
     "end_time": "2021-01-04T07:06:36.486428Z",
     "start_time": "2021-01-04T07:06:32.893819Z"
    }
   },
   "outputs": [
    {
     "name": "stdout",
     "output_type": "stream",
     "text": [
      "0.9207\n"
     ]
    }
   ],
   "source": [
    "x, y = get_test_data()\n",
    "\n",
    "network = init_network()\n",
    "accuracy_count = 0\n",
    "\n",
    "# 사진을 한장씩 꺼내서 predict 하기\n",
    "for i in range(len(x)):\n",
    "    pred = predict(network, x[i]) #(10, )\n",
    "    pred = np.argmax(pred) # 확률이 가장 높은 원소의 인덱스\n",
    "    \n",
    "    # 에측 값과 정답이 같으면\n",
    "    if pred == y[i]:\n",
    "        accuracy_count += 1\n",
    "        \n",
    "print(float(accuracy_count) / len(x))"
   ]
  },
  {
   "cell_type": "markdown",
   "metadata": {},
   "source": [
    "* 위 방식의 단점 : 속도\n",
    "    * 10,000 장의 이미지를 한 장씩 예측\n",
    "----------------------------\n",
    "* 해결 방법\n",
    "    * BATCH 사용 => 여러개의 뭉터기로 예측\n",
    "    * 배치란 데이터의 뭉터기"
   ]
  },
  {
   "cell_type": "code",
   "execution_count": 38,
   "metadata": {
    "ExecuteTime": {
     "end_time": "2021-01-04T07:34:08.277169Z",
     "start_time": "2021-01-04T07:34:07.885677Z"
    }
   },
   "outputs": [
    {
     "name": "stdout",
     "output_type": "stream",
     "text": [
      "0.9207\n"
     ]
    }
   ],
   "source": [
    "# 배치를 활용한 예측\n",
    "x, y = get_test_data()\n",
    "\n",
    "network = init_network()\n",
    "\n",
    "# batch_size : 배치당 들어있어야 하는 데이터의 개수 \n",
    "# ex) 60,000 개의 데이터를 batch_size=100 으로 묶으면 600개의 배치가 생성\n",
    "\n",
    "batch_size = 100\n",
    "accuracy_count = 0\n",
    "\n",
    "for i in range(0, len(x), batch_size):\n",
    "    x_batch = x[i:i + batch_size]\n",
    "    pred_batch = predict(network, x_batch)  # 데이터를 100개 씩 예측\n",
    "    pred_batch = np.argmax(pred_batch, axis=1)\n",
    "\n",
    "    accuracy_count += np.sum(pred_batch == y[i: i + batch_size])\n",
    "    \n",
    "print(float(accuracy_count) / len(x))"
   ]
  },
  {
   "cell_type": "markdown",
   "metadata": {},
   "source": [
    "* 배치를 활용해서 데이터를 모두 소모하면(활용하면) 이것을 **1 에폭(epoch)**이라고 한다"
   ]
  },
  {
   "cell_type": "code",
   "execution_count": null,
   "metadata": {},
   "outputs": [],
   "source": []
  },
  {
   "cell_type": "code",
   "execution_count": null,
   "metadata": {},
   "outputs": [],
   "source": []
  },
  {
   "cell_type": "code",
   "execution_count": null,
   "metadata": {},
   "outputs": [],
   "source": []
  },
  {
   "cell_type": "code",
   "execution_count": null,
   "metadata": {},
   "outputs": [],
   "source": []
  },
  {
   "cell_type": "code",
   "execution_count": null,
   "metadata": {},
   "outputs": [],
   "source": []
  },
  {
   "cell_type": "code",
   "execution_count": null,
   "metadata": {},
   "outputs": [],
   "source": []
  }
 ],
 "metadata": {
  "kernelspec": {
   "display_name": "Python 3",
   "language": "python",
   "name": "python3"
  },
  "language_info": {
   "codemirror_mode": {
    "name": "ipython",
    "version": 3
   },
   "file_extension": ".py",
   "mimetype": "text/x-python",
   "name": "python",
   "nbconvert_exporter": "python",
   "pygments_lexer": "ipython3",
   "version": "3.8.3"
  },
  "toc": {
   "base_numbering": 1,
   "nav_menu": {},
   "number_sections": true,
   "sideBar": true,
   "skip_h1_title": true,
   "title_cell": "Table of Contents",
   "title_sidebar": "Contents",
   "toc_cell": false,
   "toc_position": {
    "height": "calc(100% - 180px)",
    "left": "10px",
    "top": "150px",
    "width": "342px"
   },
   "toc_section_display": true,
   "toc_window_display": true
  }
 },
 "nbformat": 4,
 "nbformat_minor": 4
}
