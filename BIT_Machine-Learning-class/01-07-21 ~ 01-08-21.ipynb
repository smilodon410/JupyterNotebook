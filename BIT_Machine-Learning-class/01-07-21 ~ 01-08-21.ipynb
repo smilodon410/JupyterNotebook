{
 "cells": [
  {
   "cell_type": "markdown",
   "metadata": {},
   "source": [
    "# 01-07-21\n",
    "## 오차 역전파 이론 학습\n",
    "* 변미분\n",
    "* 필요성\n",
    "* 계산 과정 학습"
   ]
  },
  {
   "cell_type": "markdown",
   "metadata": {},
   "source": [
    "# 01-08-21\n",
    "## 역전파 구현하기( 계산기 )\n",
    "### 덧셈 노드\n",
    "* 순전파 : 단순히 두 값을 더한다\n",
    "* 역전파 : 다음 노드로부터 들어온 미분값을 그대로 흘려 보낸다.\n",
    "* 순전파 시에 입력된 값을 저장하고 있을 필요는 없다"
   ]
  },
  {
   "cell_type": "code",
   "execution_count": 1,
   "metadata": {
    "ExecuteTime": {
     "end_time": "2021-01-08T05:20:20.849772Z",
     "start_time": "2021-01-08T05:20:20.698952Z"
    }
   },
   "outputs": [],
   "source": [
    "import numpy as np"
   ]
  },
  {
   "cell_type": "code",
   "execution_count": 2,
   "metadata": {
    "ExecuteTime": {
     "end_time": "2021-01-08T05:20:20.857713Z",
     "start_time": "2021-01-08T05:20:20.851727Z"
    }
   },
   "outputs": [],
   "source": [
    "class AddLayer:\n",
    "    \n",
    "    def __init__(self):\n",
    "        pass\n",
    "    \n",
    "    def forward(self, x, y):\n",
    "        out = x + y\n",
    "        return out\n",
    "    \n",
    "    def backward(self, dout):\n",
    "        dx = dout * 1\n",
    "        dy = dout * 1\n",
    "        return dx, dy"
   ]
  },
  {
   "cell_type": "markdown",
   "metadata": {},
   "source": [
    "### 곱셈 노드\n",
    "* 순전파 : 두 값을 곱해준다.\n",
    "* 역전파 : 들어온 두 값에 미분 값을 곱해서 반대로 전달한다.\n",
    "* 곱할 값을들 가지고 있어야 한다. \n",
    "    * **역전파**시에 미분값을 곱한 다음 반대로 전달하기 위해"
   ]
  },
  {
   "cell_type": "code",
   "execution_count": 3,
   "metadata": {
    "ExecuteTime": {
     "end_time": "2021-01-08T05:20:20.866687Z",
     "start_time": "2021-01-08T05:20:20.859707Z"
    }
   },
   "outputs": [],
   "source": [
    "class MulLayer:\n",
    "    def __init__(self):\n",
    "        self.x = None\n",
    "        self.y = None\n",
    "        \n",
    "    def forward(self,x, y):\n",
    "        # 계산할 값들을 노드에 저장하고 있는다\n",
    "        self.x = x\n",
    "        self.y = y\n",
    "        \n",
    "        out = x * y\n",
    "        return out\n",
    "    \n",
    "    def backward(self, dout):\n",
    "        dx = dout * self.y\n",
    "        dy = dout * self.x\n",
    "        \n",
    "        return dx, dy"
   ]
  },
  {
   "cell_type": "code",
   "execution_count": 4,
   "metadata": {
    "ExecuteTime": {
     "end_time": "2021-01-08T05:20:20.879658Z",
     "start_time": "2021-01-08T05:20:20.869680Z"
    }
   },
   "outputs": [
    {
     "name": "stdout",
     "output_type": "stream",
     "text": [
      "최종 사과 가격 : 220.00000000000003\n"
     ]
    }
   ],
   "source": [
    "# 사과만 테스트\n",
    "apple = 100\n",
    "apple_cnt = 2\n",
    "tax = 1.1\n",
    "\n",
    "# 필요 계층 = 2\n",
    "# (apple * apple_cnt) * tax\n",
    "\n",
    "# 레이어 준비\n",
    "mul_apple_layer = MulLayer()\n",
    "mul_tax = MulLayer()\n",
    "\n",
    "# 순전파 진행\n",
    "apple_price = mul_apple_layer.forward(apple, apple_cnt)\n",
    "price = mul_tax.forward(apple_price, tax)\n",
    "\n",
    "print(\"최종 사과 가격 : {}\".format(price))"
   ]
  },
  {
   "cell_type": "code",
   "execution_count": 5,
   "metadata": {
    "ExecuteTime": {
     "end_time": "2021-01-08T05:20:20.889645Z",
     "start_time": "2021-01-08T05:20:20.881648Z"
    }
   },
   "outputs": [
    {
     "name": "stdout",
     "output_type": "stream",
     "text": [
      "사과 가격 * 사과 개수에 대한 미분 값 : 1.1\n",
      "사과 가격에 대한 미분 값 : 2.2\n",
      "사과 개수에 대한 미분 값 : 110.00000000000001\n",
      "소비세에 대한 미분 값 : 200\n"
     ]
    }
   ],
   "source": [
    "# 역전파 구현\n",
    "\n",
    "dprice = 1 # d돈통 / d포스기\n",
    "dapple_price, dtax = mul_tax.backward(dprice)\n",
    "dapple, dapple_cnt = mul_apple_layer.backward(dapple_price)\n",
    "\n",
    "print(\"사과 가격 * 사과 개수에 대한 미분 값 : {}\".format(dapple_price))\n",
    "print(\"사과 가격에 대한 미분 값 : {}\".format(dapple))\n",
    "print(\"사과 개수에 대한 미분 값 : {}\".format(dapple_cnt))\n",
    "print(\"소비세에 대한 미분 값 : {}\".format(dtax))"
   ]
  },
  {
   "cell_type": "markdown",
   "metadata": {},
   "source": [
    "### 다중 항목 구현"
   ]
  },
  {
   "cell_type": "code",
   "execution_count": 6,
   "metadata": {
    "ExecuteTime": {
     "end_time": "2021-01-08T05:20:20.896633Z",
     "start_time": "2021-01-08T05:20:20.891621Z"
    }
   },
   "outputs": [],
   "source": [
    "# 사과와 귤 계산하기\n",
    "apple = 100\n",
    "apple_cnt = 2\n",
    "\n",
    "orange = 150\n",
    "orange_cnt = 3\n",
    "\n",
    "tax = 1.1"
   ]
  },
  {
   "cell_type": "markdown",
   "metadata": {},
   "source": [
    "#### 1계층\n",
    "* 각 과일에 대한 개수 계산( 과일 가격 * 개수 )"
   ]
  },
  {
   "cell_type": "code",
   "execution_count": 7,
   "metadata": {
    "ExecuteTime": {
     "end_time": "2021-01-08T05:20:20.903590Z",
     "start_time": "2021-01-08T05:20:20.899600Z"
    }
   },
   "outputs": [],
   "source": [
    "mul_apple_layer = MulLayer()\n",
    "mul_orange_layer = MulLayer()"
   ]
  },
  {
   "cell_type": "markdown",
   "metadata": {},
   "source": [
    "#### 2계층\n",
    "* 사과 가격 + 오렌지 가격"
   ]
  },
  {
   "cell_type": "code",
   "execution_count": 8,
   "metadata": {
    "ExecuteTime": {
     "end_time": "2021-01-08T05:20:20.908585Z",
     "start_time": "2021-01-08T05:20:20.906581Z"
    }
   },
   "outputs": [],
   "source": [
    "add_apple_orange_layer = AddLayer()"
   ]
  },
  {
   "cell_type": "markdown",
   "metadata": {},
   "source": [
    "#### 3계층\n",
    "* 과일들의 총 가격 * 소비세"
   ]
  },
  {
   "cell_type": "code",
   "execution_count": 9,
   "metadata": {
    "ExecuteTime": {
     "end_time": "2021-01-08T05:20:20.916554Z",
     "start_time": "2021-01-08T05:20:20.910579Z"
    }
   },
   "outputs": [],
   "source": [
    "mul_tax_layer = MulLayer()"
   ]
  },
  {
   "cell_type": "markdown",
   "metadata": {},
   "source": [
    "#### 연산 수행(순전파)"
   ]
  },
  {
   "cell_type": "code",
   "execution_count": 10,
   "metadata": {
    "ExecuteTime": {
     "end_time": "2021-01-08T05:20:20.925546Z",
     "start_time": "2021-01-08T05:20:20.918553Z"
    }
   },
   "outputs": [
    {
     "name": "stdout",
     "output_type": "stream",
     "text": [
      "최종 가격 : 715\n"
     ]
    }
   ],
   "source": [
    "# 1계층\n",
    "apple_price = mul_apple_layer.forward(apple, apple_cnt)\n",
    "orange_price = mul_orange_layer.forward(orange, orange_cnt)\n",
    "\n",
    "# 2계층\n",
    "total_price = add_apple_orange_layer.forward(apple_price, orange_price)\n",
    "\n",
    "# 3계층\n",
    "price = mul_tax_layer.forward(total_price, tax)\n",
    "\n",
    "print(\"최종 가격 : {}\".format(int(price)))"
   ]
  },
  {
   "cell_type": "markdown",
   "metadata": {},
   "source": [
    "#### 연산 수행( 역전파)"
   ]
  },
  {
   "cell_type": "code",
   "execution_count": 11,
   "metadata": {
    "ExecuteTime": {
     "end_time": "2021-01-08T05:20:20.936501Z",
     "start_time": "2021-01-08T05:20:20.927525Z"
    }
   },
   "outputs": [
    {
     "name": "stdout",
     "output_type": "stream",
     "text": [
      "소비세에 대한 미분 값 : 650\n",
      "전체 가격에 대한 미분 값 : 1.1\n",
      "\n",
      "오렌지 가격 * 오렌지 개수에 대한 미분 값 : 1.1\n",
      "오렌지 가격에 대한 미분 값 : 3.3000000000000003\n",
      "오렌지 개수에 대한 미분 값 : 165.0\n",
      "\n",
      "사과 가격 * 사과 개수에 대한 미분 값 : 1.1\n",
      "사과 가격에 대한 미분 값 : 2.2\n",
      "사과 개수에 대한 미분 값 : 110.00000000000001\n"
     ]
    }
   ],
   "source": [
    "dprice = 1\n",
    "dtotal_price, dtax = mul_tax_layer.backward(dprice)\n",
    "dapple_price, dorange_price = add_apple_orange_layer.backward(dtotal_price)\n",
    "dapple, dapple_cnt = mul_apple_layer.backward(dapple_price)\n",
    "dorange, dorange_cnt = mul_orange_layer.backward(dorange_price)\n",
    "\n",
    "print(\"소비세에 대한 미분 값 : {}\".format(dtax))\n",
    "print(\"전체 가격에 대한 미분 값 : {}\".format(dtotal_price))\n",
    "print(\"\")\n",
    "print(\"오렌지 가격 * 오렌지 개수에 대한 미분 값 : {}\".format(dorange_price))\n",
    "print(\"오렌지 가격에 대한 미분 값 : {}\".format(dorange))\n",
    "print(\"오렌지 개수에 대한 미분 값 : {}\".format(dorange_cnt))\n",
    "print(\"\")\n",
    "print(\"사과 가격 * 사과 개수에 대한 미분 값 : {}\".format(dapple_price))\n",
    "print(\"사과 가격에 대한 미분 값 : {}\".format(dapple))\n",
    "print(\"사과 개수에 대한 미분 값 : {}\".format(dapple_cnt))\n"
   ]
  },
  {
   "cell_type": "markdown",
   "metadata": {},
   "source": [
    "## 신경망 레이어 만들기\n",
    "* ReLU\n",
    "* Sigmoid\n",
    "* Affine 레이어\n",
    "* SoftMax + Loss 레이어"
   ]
  },
  {
   "cell_type": "markdown",
   "metadata": {},
   "source": [
    "### ReLU"
   ]
  },
  {
   "cell_type": "code",
   "execution_count": 12,
   "metadata": {
    "ExecuteTime": {
     "end_time": "2021-01-08T05:20:20.945512Z",
     "start_time": "2021-01-08T05:20:20.939494Z"
    }
   },
   "outputs": [],
   "source": [
    "class ReLU:\n",
    "    # mask : 순전파 시에 0이나 음수였던 인덱스를 저장하기 위함\n",
    "    # mask가 있어야 순전파 때 0이였던 부분을 역전파 때 0으로 만들어 줄 수 있다\n",
    "    def __init__(self):\n",
    "        self.mask = None\n",
    "    \n",
    "    def forward(self, x):\n",
    "        self.mask = (x <= 0)\n",
    "        out = x.copy() # 원본 배열 복사\n",
    "        out[self.mask] = 0\n",
    "        \n",
    "        return out\n",
    "    \n",
    "    # 순전파시 음수였던 부분을 0으로 변환\n",
    "    # 음수였던 인덱스를 미분 전달시 self.mask 를 통해 해당 인덱스를 0으로 만든다\n",
    "    def backward(self, dout):\n",
    "        dout[self.mask] = 0\n",
    "        dx = dout\n",
    "        \n",
    "        return dx"
   ]
  },
  {
   "cell_type": "markdown",
   "metadata": {},
   "source": [
    "### Sigmoid"
   ]
  },
  {
   "cell_type": "code",
   "execution_count": 13,
   "metadata": {
    "ExecuteTime": {
     "end_time": "2021-01-08T05:20:20.955452Z",
     "start_time": "2021-01-08T05:20:20.947471Z"
    }
   },
   "outputs": [],
   "source": [
    "class Sigmoid:\n",
    "    def __init__(self):\n",
    "        self.out = None\n",
    "        \n",
    "    def forward(self, x):\n",
    "        out = 1 / ( 1 + np.exp(-x))\n",
    "        self.out = out\n",
    "        \n",
    "        return out\n",
    "    \n",
    "    def backward(self, dout):\n",
    "        dx = dout * self.out * (1.0 - self.out)\n",
    "        return dx"
   ]
  },
  {
   "cell_type": "markdown",
   "metadata": {},
   "source": [
    "### Affine 레이어\n",
    "* 기하학에서 행렬의 내적을 Affine 변환( Affine Transformation ) 이라고 한다"
   ]
  },
  {
   "cell_type": "code",
   "execution_count": 14,
   "metadata": {
    "ExecuteTime": {
     "end_time": "2021-01-08T05:20:20.971925Z",
     "start_time": "2021-01-08T05:20:20.957445Z"
    }
   },
   "outputs": [
    {
     "data": {
      "text/plain": [
       "((2,), (2, 3), (3,))"
      ]
     },
     "execution_count": 14,
     "metadata": {},
     "output_type": "execute_result"
    }
   ],
   "source": [
    "# Affine 변환 알아보기\n",
    "x = np.random.rand(2)\n",
    "w = np.random.rand(2, 3)\n",
    "b = np.random.rand(3)\n",
    "\n",
    "x.shape, w.shape, b.shape"
   ]
  },
  {
   "cell_type": "code",
   "execution_count": 15,
   "metadata": {
    "ExecuteTime": {
     "end_time": "2021-01-08T05:20:20.981891Z",
     "start_time": "2021-01-08T05:20:20.973913Z"
    }
   },
   "outputs": [],
   "source": [
    "class Affine:\n",
    "    def __init__(self, W, b):\n",
    "        self.W = W\n",
    "        self.b = b\n",
    "        \n",
    "        self.x = None\n",
    "        # 방어 코드 : 원본  x의 모양이 변하는 것을 방지하기 위함\n",
    "        self.original_x_shape = None\n",
    "        \n",
    "        # 최적화(Optimazaion)을 위해 각 매개변수와 미분값을 가지고 있어야 한다.\n",
    "        # 경사하강법 등을 구현하기 위해 사용\n",
    "        # dw, db를 update 하는 것을  << 학습 >>\n",
    "        self.dw = None\n",
    "        self.db = None\n",
    "        \n",
    "    def forward(self, x):\n",
    "        # 텐서 대응( 배치마다의 데이터의 개수를 평평하게 사용함)\n",
    "        # 몇차원 배열이 들어오든 (N, M)으로 변환\n",
    "        # ex) (3, 4, 4) => 제일 앞의 3이 배치의 개수를 의미 => (3, 16)\n",
    "        self.original_x_shape = x.shape\n",
    "        x = x.reshape(x.shape[0], -1)\n",
    "        \n",
    "        self.x = x\n",
    "        \n",
    "        out = np.dot(self.x, self.W) + self.b\n",
    "        return out\n",
    "    \n",
    "    def backward(self, dout):\n",
    "        # dL / dx => dout * W의 전치 행렬\n",
    "        dx = np.dot(dout, self.W.T)\n",
    "        self.dw = np.dot(self.x.T, dout)\n",
    "        self.db = np.sum(dout, axis=0)\n",
    "        \n",
    "        # dx를 원본형상으로 복구\n",
    "        dx = dx.reshape(*self.original_x_shape)\n",
    "        return dx"
   ]
  },
  {
   "cell_type": "markdown",
   "metadata": {},
   "source": [
    "### Softmax + Loss 계층\n",
    "* softmax에 의한 classification 및 cee를 활용한 손실함수를 동시에 구현\n",
    "* 순전파 시에는 softmax 적용 후 loss 적용\n",
    "    * 정답 레이블, 예측 레이블( softmax결과물 ), loss를 갖는다\n",
    "* 역전파 시에 오차를 구해서 이전층에 전달"
   ]
  },
  {
   "cell_type": "code",
   "execution_count": 16,
   "metadata": {
    "ExecuteTime": {
     "end_time": "2021-01-08T05:20:20.989869Z",
     "start_time": "2021-01-08T05:20:20.983886Z"
    }
   },
   "outputs": [],
   "source": [
    "from common.functions import softmax, cross_entropy_error    "
   ]
  },
  {
   "cell_type": "code",
   "execution_count": 17,
   "metadata": {
    "ExecuteTime": {
     "end_time": "2021-01-08T05:20:20.998845Z",
     "start_time": "2021-01-08T05:20:20.990866Z"
    }
   },
   "outputs": [],
   "source": [
    "class SoftmaxWithLoss:\n",
    "    def __init__(self):\n",
    "        self.loss = None\n",
    "        self.y = None\n",
    "        self.t = None\n",
    "        \n",
    "    '''\n",
    "        x: 이전층에서 들어온 값\n",
    "        t: 정답 레이블\n",
    "    '''\n",
    "    def forward(self, x, t):\n",
    "        self.t = t\n",
    "        self.y = softmax(x)\n",
    "        self.loss = cross_entropy_error(self.y, self.t)\n",
    "        \n",
    "        return self.loss\n",
    "    \n",
    "    def backward(self, dout=1):\n",
    "        batch_size = self.t.shape[0]\n",
    "        \n",
    "        # 출력층의 원소의 개수를 비교하는 것은 원-핫 인코딩이 되어있는 레이블이라는 뜻\n",
    "        if self.t.size == self.y.size:\n",
    "            dx = (self.y - self.t) / batch_size\n",
    "        else:\n",
    "            dx = self.y.copy()\n",
    "            dx[np.arange(batch_size), self.t] -= 1\n",
    "            dx = dx / batch_size\n",
    "            \n",
    "        return dx"
   ]
  },
  {
   "cell_type": "markdown",
   "metadata": {},
   "source": [
    "### 네트워크 생성 및 조립"
   ]
  },
  {
   "cell_type": "code",
   "execution_count": 18,
   "metadata": {
    "ExecuteTime": {
     "end_time": "2021-01-08T05:20:21.016797Z",
     "start_time": "2021-01-08T05:20:21.000840Z"
    }
   },
   "outputs": [],
   "source": [
    "# 레이어마다 이름을 붙여주고, 레이어의 추가순서를 항상 유지\n",
    "# 원래 딕셔너리를 활용하는데, 일반 딕셔너리는 데이터의 추가의 순서를 유지 하지 않는다.\n",
    "# 키값도 사용하면서, 동시에 추가 순서도 유지하기 위해 OrderedDict\n",
    "\n",
    "from collections import OrderedDict\n",
    "\n",
    "class TwoLayerNet:\n",
    "    \n",
    "    def __init__(self, input_size, hidden_size, output_size, weight_init_std = 0.01 ):\n",
    "        self.params = {}\n",
    "        self.params[\"W1\"] = weight_init_std * np.random.randn(input_size, hidden_size)\n",
    "        self.params[\"b1\"] = np.zeros(hidden_size)\n",
    "        \n",
    "        self.params[\"W2\"] = weight_init_std * np.random.randn(hidden_size, output_size)\n",
    "        self.params[\"b2\"] = np.zeros(output_size)\n",
    "        \n",
    "        # 레이어 만들기\n",
    "        self.layers = OrderedDict()\n",
    "        \n",
    "        # Fully Connected #1\n",
    "        self.layers['Affine1'] = Affine(self.params[\"W1\"], self.params[\"b1\"])\n",
    "        # Activation\n",
    "        self.layers[\"ReLU1\"] = ReLU()\n",
    "        \n",
    "        # Fully Connected #2(츨력층)\n",
    "        self.layers[\"Affine2\"] = Affine(self.params[\"W2\"], self.params[\"b2\"])\n",
    "        \n",
    "        self.lastLayer = SoftmaxWithLoss()\n",
    "        \n",
    "    def predict(self, x):\n",
    "        for layer in self.layers.values():\n",
    "            x = layer.forward(x)\n",
    "            \n",
    "        return x\n",
    "    \n",
    "    def loss(self, x, t):\n",
    "        y = self.predict(x)\n",
    "        return self.lastLayer.forward(y, t)\n",
    "    \n",
    "    def accuracy(self, x, t):\n",
    "        y = self.predict(x)\n",
    "        y = np.argmax(y, axis=1)\n",
    "        \n",
    "        # 원-핫 인코딩 처리\n",
    "        if t.ndim != 1 : np.argmax(t, axis=1)\n",
    "            \n",
    "        accuracy = np.sum(y == t) / float(x.shape[0])\n",
    "        return accuracy\n",
    "    \n",
    "    def gradient(self, x, t):\n",
    "        # 순전파\n",
    "        self.loss(x, t)\n",
    "        \n",
    "        # 역전파\n",
    "        dout = 1 # dL / dL\n",
    "        dout = self.lastLayer.backward(dout) # 순수한 오차\n",
    "        \n",
    "        layers = list(self.layers.values()) # 레이어를 모두 가지고 온 다음\n",
    "        layers.reverse() # 순서 뒤집기\n",
    "        \n",
    "        for layer in layers:\n",
    "            dout = layer.backward(dout)\n",
    "            \n",
    "        # 구해진 기울기 배열 저장\n",
    "        grads = {}\n",
    "        grads[\"W1\"], grads[\"b1\"] = self.layers[\"Affine1\"].dw, self.layers[\"Affine1\"].db\n",
    "        grads[\"W2\"], grads[\"b2\"] = self.layers[\"Affine2\"].dw, self.layers[\"Affine2\"].db\n",
    "        \n",
    "        return grads"
   ]
  },
  {
   "cell_type": "markdown",
   "metadata": {},
   "source": [
    "* 데이터 로드( mnist 사용 )"
   ]
  },
  {
   "cell_type": "code",
   "execution_count": 19,
   "metadata": {
    "ExecuteTime": {
     "end_time": "2021-01-08T05:20:24.697193Z",
     "start_time": "2021-01-08T05:20:21.018792Z"
    }
   },
   "outputs": [
    {
     "data": {
      "text/plain": [
       "((60000, 784), (10000, 784))"
      ]
     },
     "execution_count": 19,
     "metadata": {},
     "output_type": "execute_result"
    }
   ],
   "source": [
    "from tensorflow.keras import datasets\n",
    "mnist = datasets.mnist\n",
    "(X_train, y_train), (X_test, y_test) = mnist.load_data()\n",
    "\n",
    "from sklearn.preprocessing import OneHotEncoder\n",
    "y_train_dummy = OneHotEncoder().fit_transform(y_train.reshape(-1, 1))\n",
    "y_train_dummy = y_train_dummy.toarray()\n",
    "\n",
    "y_test_dummy = OneHotEncoder().fit_transform(y_test.reshape(-1, 1))\n",
    "y_test_dummy = y_test_dummy.toarray()\n",
    "\n",
    "# feature 전처리\n",
    "X_train = X_train.reshape(X_train.shape[0], -1)\n",
    "X_train = X_train / 255.0 # 이미지 정규화 기법. 255.0 으로 나눠주면 모든 픽셀 데이터가 0 ~ 1사이의 값을 갖게 되고, 훈련이 쉽게 된다.\n",
    "\n",
    "X_test = X_test.reshape(X_test.shape[0], -1)\n",
    "X_test = X_test / 255.0\n",
    "\n",
    "X_train.shape, X_test.shape"
   ]
  },
  {
   "cell_type": "code",
   "execution_count": 20,
   "metadata": {
    "ExecuteTime": {
     "end_time": "2021-01-08T05:20:42.819298Z",
     "start_time": "2021-01-08T05:20:24.699197Z"
    }
   },
   "outputs": [
    {
     "name": "stdout",
     "output_type": "stream",
     "text": [
      "Train Accuracy : 0.116700 / Test Accuracy : 0.120600\n",
      "Train Accuracy : 0.904850 / Test Accuracy : 0.906700\n",
      "Train Accuracy : 0.923667 / Test Accuracy : 0.925200\n",
      "Train Accuracy : 0.930817 / Test Accuracy : 0.929600\n",
      "Train Accuracy : 0.943350 / Test Accuracy : 0.940200\n",
      "Train Accuracy : 0.949200 / Test Accuracy : 0.945400\n",
      "Train Accuracy : 0.955717 / Test Accuracy : 0.949600\n",
      "Train Accuracy : 0.960417 / Test Accuracy : 0.955500\n",
      "Train Accuracy : 0.962950 / Test Accuracy : 0.957600\n",
      "Train Accuracy : 0.967167 / Test Accuracy : 0.961700\n",
      "Train Accuracy : 0.968583 / Test Accuracy : 0.963200\n",
      "Train Accuracy : 0.970433 / Test Accuracy : 0.963900\n",
      "Train Accuracy : 0.973550 / Test Accuracy : 0.965800\n",
      "Train Accuracy : 0.974000 / Test Accuracy : 0.965600\n",
      "Train Accuracy : 0.975917 / Test Accuracy : 0.968500\n",
      "Train Accuracy : 0.975967 / Test Accuracy : 0.966100\n",
      "Train Accuracy : 0.979167 / Test Accuracy : 0.968900\n"
     ]
    }
   ],
   "source": [
    "network = TwoLayerNet(input_size=28*28, hidden_size=50, output_size=10)\n",
    "\n",
    "iter_num = 10000\n",
    "\n",
    "# 미니 배치 때문에 선언함\n",
    "train_size = X_train.shape[0]\n",
    "batch_size = 100\n",
    "learning_rate = 0.1\n",
    "\n",
    "train_loss_list = []\n",
    "train_acc_list = []\n",
    "test_acc_list = []\n",
    "\n",
    "iter_per_epoch = max(train_size / batch_size, 1) # 에폭 횟수 구하기\n",
    "\n",
    "for i in range(iter_num):\n",
    "    batch_mask = np.random.choice(train_size, batch_size)\n",
    "    x_batch = X_train[batch_mask]\n",
    "    t_batch = y_train[batch_mask]\n",
    "    \n",
    "    # 기울기 계산\n",
    "    # grads = network.numerical_gradient_params(X_batch, t_batch) # 수치미분은 사용 X\n",
    "    grads = network.gradient(x_batch, t_batch) # 오차 역전파 방식\n",
    "    \n",
    "    # 경사 하강법을 이용한 매개변수 계산\n",
    "    \n",
    "    for key in (\"W1\", \"b1\", \"W2\", \"b2\"):\n",
    "        network.params[key] -= learning_rate * grads[key]\n",
    "        \n",
    "    loss = network.loss(x_batch, t_batch)\n",
    "    \n",
    "    if i % iter_per_epoch == 0:\n",
    "        train_acc = network.accuracy(X_train, y_train)\n",
    "        test_acc  = network.accuracy(X_test, y_test)\n",
    "        train_loss_list.append(loss)\n",
    "        train_acc_list.append(train_acc)\n",
    "        test_acc_list.append(test_acc)\n",
    "        print(\"Train Accuracy : {:.6f} / Test Accuracy : {:.6f}\".format(train_acc, test_acc))\n",
    "    "
   ]
  },
  {
   "cell_type": "code",
   "execution_count": 22,
   "metadata": {
    "ExecuteTime": {
     "end_time": "2021-01-08T05:27:31.880906Z",
     "start_time": "2021-01-08T05:27:31.736554Z"
    }
   },
   "outputs": [
    {
     "data": {
      "image/png": "[encoded data removed]",
      "text/plain": [
       "<Figure size 432x288 with 1 Axes>"
      ]
     },
     "metadata": {
      "needs_background": "light"
     },
     "output_type": "display_data"
    }
   ],
   "source": [
    "import matplotlib.pyplot as plt\n",
    "\n",
    "plt.plot(np.arange(len(train_loss_list)), train_loss_list, label=\"loss\")\n",
    "\n",
    "plt.xlabel(\"epochs\")\n",
    "plt.ylabel(\"Loss\")\n",
    "plt.legend()\n",
    "plt.show()"
   ]
  },
  {
   "cell_type": "code",
   "execution_count": 23,
   "metadata": {
    "ExecuteTime": {
     "end_time": "2021-01-08T05:29:39.465924Z",
     "start_time": "2021-01-08T05:29:39.316343Z"
    }
   },
   "outputs": [
    {
     "data": {
      "image/png": "[encoded data removed]",
      "text/plain": [
       "<Figure size 432x288 with 1 Axes>"
      ]
     },
     "metadata": {
      "needs_background": "light"
     },
     "output_type": "display_data"
    }
   ],
   "source": [
    "plt.plot(np.arange(len(train_acc_list)), train_acc_list, label=\"Train Accuracy\")\n",
    "plt.plot(np.arange(len(test_acc_list)), test_acc_list, label=\"Test Accuracy\")\n",
    "\n",
    "plt.xlabel(\"epochs\")\n",
    "plt.ylabel(\"Accuracy\")\n",
    "plt.legend()\n",
    "plt.show()"
   ]
  },
  {
   "cell_type": "code",
   "execution_count": null,
   "metadata": {},
   "outputs": [],
   "source": []
  }
 ],
 "metadata": {
  "kernelspec": {
   "display_name": "Python 3",
   "language": "python",
   "name": "python3"
  },
  "language_info": {
   "codemirror_mode": {
    "name": "ipython",
    "version": 3
   },
   "file_extension": ".py",
   "mimetype": "text/x-python",
   "name": "python",
   "nbconvert_exporter": "python",
   "pygments_lexer": "ipython3",
   "version": "3.8.3"
  },
  "toc": {
   "base_numbering": 1,
   "nav_menu": {},
   "number_sections": true,
   "sideBar": true,
   "skip_h1_title": true,
   "title_cell": "Table of Contents",
   "title_sidebar": "Contents",
   "toc_cell": false,
   "toc_position": {},
   "toc_section_display": true,
   "toc_window_display": true
  }
 },
 "nbformat": 4,
 "nbformat_minor": 4
}
