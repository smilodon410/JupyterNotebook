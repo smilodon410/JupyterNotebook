{
 "cells": [
  {
   "cell_type": "markdown",
   "metadata": {},
   "source": [
    "## 손실 함수\n",
    "### 평균 제곱 오차( MSE - Mean Squared Error )\n",
    "\n",
    "$$\n",
    "E = \\frac{1}{2}\\sum_{k}(y_k-t_k)^2\n",
    "$$\n",
    "\n",
    "* 앞쪽이 $\\frac{1}{2}$인 이유는 미분했을 때 남는 식이 $(y_k-t_k)$\n",
    "    * $y_k$는 예측값을 의미한다 ($\\hat y_k$)\n",
    "    * $t_k$는 정답(타깃값)을 의미한다 "
   ]
  },
  {
   "cell_type": "code",
   "execution_count": 1,
   "metadata": {
    "ExecuteTime": {
     "end_time": "2021-01-05T04:10:59.787580Z",
     "start_time": "2021-01-05T04:10:59.641535Z"
    }
   },
   "outputs": [],
   "source": [
    "import numpy as np\n",
    "\n",
    "y = [0.1, 0.05, 0.6, 0.0, 0.05, 0.1, 0.0, 0.1, 0.0, 0.0]\n",
    "t = [0, 0, 1, 0, 0, 0, 0, 0, 0, 0]"
   ]
  },
  {
   "cell_type": "markdown",
   "metadata": {
    "ExecuteTime": {
     "end_time": "2021-01-05T00:38:38.011330Z",
     "start_time": "2021-01-05T00:38:38.006371Z"
    }
   },
   "source": [
    "* `y`는 $softmax$의 결과물로써, 정답이 2일 확률을 60%로 추정하고 있다\n",
    "* `t`는 One-Hot Encoding된 정답 레이블로써, 원래 정답이 2라고 정해져 있다"
   ]
  },
  {
   "cell_type": "code",
   "execution_count": 2,
   "metadata": {
    "ExecuteTime": {
     "end_time": "2021-01-05T04:10:59.792539Z",
     "start_time": "2021-01-05T04:10:59.788578Z"
    }
   },
   "outputs": [],
   "source": [
    "def mean_squared_error(y, t):\n",
    "    return 0.5 * np.sum((y-t) ** 2)"
   ]
  },
  {
   "cell_type": "code",
   "execution_count": 3,
   "metadata": {
    "ExecuteTime": {
     "end_time": "2021-01-05T04:10:59.804535Z",
     "start_time": "2021-01-05T04:10:59.794534Z"
    }
   },
   "outputs": [
    {
     "name": "stdout",
     "output_type": "stream",
     "text": [
      "정답을 2로 추정했을 때의 MSE 값 : 0.098\n"
     ]
    }
   ],
   "source": [
    "print(\"정답을 2로 추정했을 때의 MSE 값 : {:.3f}\".format(mean_squared_error(np.array(y), np.array(t))))"
   ]
  },
  {
   "cell_type": "code",
   "execution_count": 4,
   "metadata": {
    "ExecuteTime": {
     "end_time": "2021-01-05T04:10:59.813511Z",
     "start_time": "2021-01-05T04:10:59.806502Z"
    }
   },
   "outputs": [
    {
     "name": "stdout",
     "output_type": "stream",
     "text": [
      "정답을 2로 추정했을 때의 MSE 값 : 0.598\n"
     ]
    }
   ],
   "source": [
    "# 일부러 오답 예측을 만들어, MSE 값을 측정하기 : 예측값을 7로 하는 경우\n",
    "y = [0.1, 0.05, 0.1, 0.0, 0.05, 0.1, 0.0, 0.6, 0.0, 0.0]\n",
    "t = [0, 0, 1, 0, 0, 0, 0, 0, 0, 0]\n",
    "\n",
    "print(\"정답을 2로 추정했을 때의 MSE 값 : {:.3f}\".format(mean_squared_error(np.array(y), np.array(t))))"
   ]
  },
  {
   "cell_type": "markdown",
   "metadata": {},
   "source": [
    "### 교차 엔트로피( CEE - Cross Entropy Error )\n",
    "\n",
    "$$\n",
    "E= -\\sum_kt_klogy_k\n",
    "$$\n",
    "\n",
    "* One Hot Encoding된 $f_k$가 곱해지기 때문에, 정답이 아닌 타깃은 신경쓰지 않는다.(곱하기 0) \n",
    "* 즉, 예측값 자체가 오차 출력값이 된다"
   ]
  },
  {
   "cell_type": "code",
   "execution_count": 5,
   "metadata": {
    "ExecuteTime": {
     "end_time": "2021-01-05T04:10:59.821484Z",
     "start_time": "2021-01-05T04:10:59.815478Z"
    }
   },
   "outputs": [],
   "source": [
    "def cross_entropy_error(y, t):\n",
    "    delta = 1e-7\n",
    "    return -np.sum(t * np.log(y + delta))"
   ]
  },
  {
   "cell_type": "markdown",
   "metadata": {},
   "source": [
    "* 아주 작은 값인 $delta$를 더하는 이유는 `np.log`함수에 0이 대입되면 마이너스 무한대를 나타나게 되기 때문에 `y`에 아주 작은 값인 `delta`를 더해서 `np.log`함수의 결과물이 마이너스 무한대가 되는 것을 방지한다. "
   ]
  },
  {
   "cell_type": "code",
   "execution_count": 6,
   "metadata": {
    "ExecuteTime": {
     "end_time": "2021-01-05T04:10:59.831434Z",
     "start_time": "2021-01-05T04:10:59.823459Z"
    }
   },
   "outputs": [
    {
     "name": "stdout",
     "output_type": "stream",
     "text": [
      "정답을 2로 추정했을 때의 CEE값 : 0.511\n",
      "정답을 7로 추정했을 때의 CEE값 : 2.303\n"
     ]
    }
   ],
   "source": [
    "# 정답은 2\n",
    "t = [0, 0, 1, 0, 0, 0, 0, 0, 0, 0]\n",
    "# 정답이 2일 확률이 가장 높다고 추정함(0.6)\n",
    "y = [0.1, 0.05, 0.6, 0.0, 0.05, 0.1, 0.0, 0.1, 0.0, 0.0]\n",
    "print(\"정답을 2로 추정했을 때의 CEE값 : {:.3f}\".format(cross_entropy_error(np.array(y), np.array(t))))\n",
    "# 정답이 7일 확률이 가장 높다고 추정함(0.6)\n",
    "y = [0.1, 0.05, 0.1, 0.0, 0.05, 0.1, 0.0, 0.6, 0.0, 0.0]\n",
    "print(\"정답을 7로 추정했을 때의 CEE값 : {:.3f}\".format(cross_entropy_error(np.array(y), np.array(t))))"
   ]
  },
  {
   "cell_type": "markdown",
   "metadata": {},
   "source": [
    "### 미니 배치 학습\n",
    "\n",
    "* $N$개의 배치 데이터를 활용했을 때 바뀐 CEE 공식"
   ]
  },
  {
   "cell_type": "code",
   "execution_count": 7,
   "metadata": {
    "ExecuteTime": {
     "end_time": "2021-01-05T04:11:03.474405Z",
     "start_time": "2021-01-05T04:10:59.834427Z"
    }
   },
   "outputs": [],
   "source": [
    "# mnist 데이터 셋 로딩\n",
    "from tensorflow.keras import datasets\n",
    "mnist = datasets.mnist\n",
    "\n",
    "(x_train, y_train), (x_test, y_test) = mnist.load_data()"
   ]
  },
  {
   "cell_type": "code",
   "execution_count": 8,
   "metadata": {
    "ExecuteTime": {
     "end_time": "2021-01-05T04:11:03.487334Z",
     "start_time": "2021-01-05T04:11:03.477384Z"
    }
   },
   "outputs": [
    {
     "data": {
      "text/plain": [
       "(60000, 28, 28)"
      ]
     },
     "execution_count": 8,
     "metadata": {},
     "output_type": "execute_result"
    }
   ],
   "source": [
    "x_train.shape"
   ]
  },
  {
   "cell_type": "code",
   "execution_count": 9,
   "metadata": {
    "ExecuteTime": {
     "end_time": "2021-01-05T04:11:03.502322Z",
     "start_time": "2021-01-05T04:11:03.491324Z"
    }
   },
   "outputs": [
    {
     "data": {
      "text/plain": [
       "(60000,)"
      ]
     },
     "execution_count": 9,
     "metadata": {},
     "output_type": "execute_result"
    }
   ],
   "source": [
    "y_train.shape"
   ]
  },
  {
   "cell_type": "markdown",
   "metadata": {},
   "source": [
    "* Cross Entropy는 One Hot Encoding 이 되어 있어야 한다\n",
    "    * x_train.shape -> (60000, 784)\n",
    "    * y_train,shape -> (60000, 10)"
   ]
  },
  {
   "cell_type": "code",
   "execution_count": 10,
   "metadata": {
    "ExecuteTime": {
     "end_time": "2021-01-05T04:11:03.511279Z",
     "start_time": "2021-01-05T04:11:03.504289Z"
    }
   },
   "outputs": [
    {
     "data": {
      "text/plain": [
       "(60000, 784)"
      ]
     },
     "execution_count": 10,
     "metadata": {},
     "output_type": "execute_result"
    }
   ],
   "source": [
    "x_train_reshaped = x_train.reshape(60000, -1)\n",
    "x_train_reshaped.shape"
   ]
  },
  {
   "cell_type": "code",
   "execution_count": 11,
   "metadata": {
    "ExecuteTime": {
     "end_time": "2021-01-05T04:11:04.013897Z",
     "start_time": "2021-01-05T04:11:03.513265Z"
    }
   },
   "outputs": [
    {
     "data": {
      "text/plain": [
       "(60000, 10)"
      ]
     },
     "execution_count": 11,
     "metadata": {},
     "output_type": "execute_result"
    }
   ],
   "source": [
    "from sklearn.preprocessing import OneHotEncoder\n",
    "\n",
    "one_hot = OneHotEncoder()\n",
    "\n",
    "y_train_new = y_train[..., np.newaxis]\n",
    "y_train_new.shape\n",
    "\n",
    "one_hot.fit(y_train_new)\n",
    "y_train_one = one_hot.transform(y_train_new)\n",
    "y_train_one_hot = y_train_one.toarray()\n",
    "y_train_one_hot.shape"
   ]
  },
  {
   "cell_type": "markdown",
   "metadata": {},
   "source": [
    "#### 미니배치 구현하기"
   ]
  },
  {
   "cell_type": "code",
   "execution_count": 12,
   "metadata": {
    "ExecuteTime": {
     "end_time": "2021-01-05T04:11:04.021849Z",
     "start_time": "2021-01-05T04:11:04.015865Z"
    }
   },
   "outputs": [],
   "source": [
    "# 훈련 데이터에서 무작위로 10장만 뺴내오기\n",
    "train_size = x_train.shape[0]  # 전체 훈련 데이터 셋 크기\n",
    "batch_size = 10  # 미니 배치 사이즈\n",
    "# train_size에서 batch_size 만큼의 점수를 선택\n",
    "batch_mask = np.random.choice(train_size, batch_size)\n",
    "\n",
    "x_batch = x_train[batch_mask]  # 랜덤으로 선택된 인덱스의 데이터만 추리기\n",
    "y_batch = y_train_one_hot[batch_mask]  # 원핫 인코딩 된 y_train 에서 데이터만 추리기"
   ]
  },
  {
   "cell_type": "code",
   "execution_count": 13,
   "metadata": {
    "ExecuteTime": {
     "end_time": "2021-01-05T04:11:04.031846Z",
     "start_time": "2021-01-05T04:11:04.024842Z"
    }
   },
   "outputs": [
    {
     "data": {
      "text/plain": [
       "array([5, 0, 4], dtype=uint8)"
      ]
     },
     "execution_count": 13,
     "metadata": {},
     "output_type": "execute_result"
    }
   ],
   "source": [
    "y_train[0:3]"
   ]
  },
  {
   "cell_type": "code",
   "execution_count": 14,
   "metadata": {
    "ExecuteTime": {
     "end_time": "2021-01-05T04:11:04.038830Z",
     "start_time": "2021-01-05T04:11:04.033816Z"
    }
   },
   "outputs": [
    {
     "name": "stdout",
     "output_type": "stream",
     "text": [
      "랜덤 인덱스 : [58032 13349 28650 24594 21359 18259 48911 15454  5731  8135]\n"
     ]
    }
   ],
   "source": [
    "print(\"랜덤 인덱스 : {}\".format(batch_mask))"
   ]
  },
  {
   "cell_type": "code",
   "execution_count": 15,
   "metadata": {
    "ExecuteTime": {
     "end_time": "2021-01-05T04:11:04.048837Z",
     "start_time": "2021-01-05T04:11:04.041795Z"
    }
   },
   "outputs": [],
   "source": [
    "# 배치 및 배치가 아닐 때 까지 고려\n",
    "def cross_entropy_error(y,t):\n",
    "    # 1차원일 때에 대한 처리( 배치가 아닐 때 )\n",
    "    if y.ndim == 1:\n",
    "        # 강제 2차원 배열화\n",
    "        t = t.reshape(1, t.size)\n",
    "        y = y.reshape(1, y.size)\n",
    "        \n",
    "    batch_size = y.shape[0]\n",
    "    return -np.sum(t * np.log(y)) / batch_size"
   ]
  },
  {
   "cell_type": "code",
   "execution_count": 16,
   "metadata": {
    "ExecuteTime": {
     "end_time": "2021-01-05T04:11:04.056755Z",
     "start_time": "2021-01-05T04:11:04.050770Z"
    }
   },
   "outputs": [],
   "source": [
    "# 원-핫 인코딩이 되어 있지 않은 경우 대응\n",
    "def cross_entropy_error(y,t):\n",
    "    if y.ndim == 1:\n",
    "        t = t.reshape(1, t.size)\n",
    "        y = y.reshape(1, y.size)\n",
    "    batch_size = y.shape[0]\n",
    "    return -np.sum(np.log(y[np.arange(batch_size), t])) / batch_size"
   ]
  },
  {
   "cell_type": "markdown",
   "metadata": {},
   "source": [
    "## 수치 미분과 경사하강법"
   ]
  },
  {
   "cell_type": "code",
   "execution_count": 19,
   "metadata": {
    "ExecuteTime": {
     "end_time": "2021-01-05T05:06:09.595181Z",
     "start_time": "2021-01-05T05:06:09.590170Z"
    }
   },
   "outputs": [],
   "source": [
    "import numpy as np\n",
    "\n",
    "# 미분의 나쁜 구현\n",
    "def numerical_diff(f, x):\n",
    "    h = 10e-50\n",
    "    return (f(x-h) - f(x)) / h"
   ]
  },
  {
   "cell_type": "markdown",
   "metadata": {},
   "source": [
    "* 너무 작은 숫자로 나눗셈을 하게 되면, 컴퓨팅 시스템상 부동소숫점 오류가 나게 된다. **반올림 오차**가 등장함 => 좋지 않은 구현\n",
    "---------------------\n",
    "* 아주 작은 값을 의미하는 $h$는 보통 `1e-4`정도로 주면 좋은 효과를 볼 수 있음\n",
    "* 수학적 기교를 통해 미분에서 나눗셈 오류를 해결할 수 있다\n",
    "* **중앙 차분과 전방 차분 개념 사용**"
   ]
  },
  {
   "cell_type": "code",
   "execution_count": 21,
   "metadata": {
    "ExecuteTime": {
     "end_time": "2021-01-05T05:42:50.947876Z",
     "start_time": "2021-01-05T05:42:50.943886Z"
    }
   },
   "outputs": [],
   "source": [
    "def numerical_diff(f, x):\n",
    "    h = 1e-4\n",
    "    return (f(x+h) - f(x-h)) / (2 * h)"
   ]
  },
  {
   "cell_type": "markdown",
   "metadata": {},
   "source": [
    "* 수치 미분과 기울기의 관계"
   ]
  },
  {
   "cell_type": "code",
   "execution_count": 22,
   "metadata": {
    "ExecuteTime": {
     "end_time": "2021-01-05T06:13:46.904067Z",
     "start_time": "2021-01-05T06:13:46.900078Z"
    }
   },
   "outputs": [],
   "source": [
    "def function_1(x):\n",
    "    return 0.01*x**2 + 0.1*x"
   ]
  },
  {
   "cell_type": "code",
   "execution_count": 23,
   "metadata": {
    "ExecuteTime": {
     "end_time": "2021-01-05T06:15:13.563725Z",
     "start_time": "2021-01-05T06:15:13.151745Z"
    }
   },
   "outputs": [
    {
     "data": {
      "image/png": "[encoded data removed]",
      "text/plain": [
       "<Figure size 432x288 with 1 Axes>"
      ]
     },
     "metadata": {
      "needs_background": "light"
     },
     "output_type": "display_data"
    }
   ],
   "source": [
    "import numpy as np\n",
    "import matplotlib.pyplot as plt\n",
    "\n",
    "x = np.arange(0.0, 20.0, 0.1)\n",
    "y = function_1(x)\n",
    "\n",
    "plt.plot(x, y)\n",
    "plt.show()"
   ]
  },
  {
   "cell_type": "code",
   "execution_count": 24,
   "metadata": {
    "ExecuteTime": {
     "end_time": "2021-01-05T06:17:01.374845Z",
     "start_time": "2021-01-05T06:17:01.369858Z"
    }
   },
   "outputs": [
    {
     "name": "stdout",
     "output_type": "stream",
     "text": [
      "x=5 일 때, 미분값 : 0.1999999999990898\n",
      "x=10 일 때, 미분값 : 0.2999999999986347\n"
     ]
    }
   ],
   "source": [
    "# x = 5일때의 미분값과 10일때의 미분값 구하기\n",
    "print(\"x=5 일 때, 미분값 : {}\".format(numerical_diff(function_1, 5)))\n",
    "print(\"x=10 일 때, 미분값 : {}\".format(numerical_diff(function_1, 10)))"
   ]
  },
  {
   "cell_type": "code",
   "execution_count": 25,
   "metadata": {
    "ExecuteTime": {
     "end_time": "2021-01-05T06:18:02.244299Z",
     "start_time": "2021-01-05T06:18:02.239313Z"
    }
   },
   "outputs": [],
   "source": [
    "# 접선을 그리는 코드\n",
    "def tangent_line(f, x):\n",
    "    d = numerical_diff(f, x)\n",
    "    y = f(x) - d*x\n",
    "    return lambda t: d*t + y"
   ]
  },
  {
   "cell_type": "code",
   "execution_count": 26,
   "metadata": {
    "ExecuteTime": {
     "end_time": "2021-01-05T06:18:27.215218Z",
     "start_time": "2021-01-05T06:18:26.930252Z"
    }
   },
   "outputs": [
    {
     "data": {
      "image/png": "[encoded data removed]",
      "text/plain": [
       "<Figure size 1440x576 with 2 Axes>"
      ]
     },
     "metadata": {
      "needs_background": "light"
     },
     "output_type": "display_data"
    }
   ],
   "source": [
    "fig, axes = plt.subplots(1,2, figsize=(20,8))\n",
    "\n",
    "x = np.arange(0.0, 20.0, 0.1)\n",
    "y = function_1(x)\n",
    "\n",
    "axes[0].set_xlabel(\"x\")\n",
    "axes[0].set_ylabel(\"f(x)\")\n",
    "tf = tangent_line(function_1, 5)\n",
    "y2 = tf(x)\n",
    "axes[0].plot(x, y)\n",
    "axes[0].plot(x, y2)\n",
    "axes[0].set_title(\"x = 5\")\n",
    "\n",
    "axes[1].set_xlabel(\"x\")\n",
    "axes[1].set_ylabel(\"f(x)\")\n",
    "tf = tangent_line(function_1, 10)\n",
    "y2 = tf(x)\n",
    "axes[1].plot(x, y)\n",
    "axes[1].plot(x, y2)\n",
    "axes[1].set_title(\"x = 10\")\n",
    "\n",
    "plt.show()"
   ]
  }
 ],
 "metadata": {
  "kernelspec": {
   "display_name": "Python 3",
   "language": "python",
   "name": "python3"
  },
  "language_info": {
   "codemirror_mode": {
    "name": "ipython",
    "version": 3
   },
   "file_extension": ".py",
   "mimetype": "text/x-python",
   "name": "python",
   "nbconvert_exporter": "python",
   "pygments_lexer": "ipython3",
   "version": "3.8.3"
  },
  "toc": {
   "base_numbering": 1,
   "nav_menu": {},
   "number_sections": true,
   "sideBar": true,
   "skip_h1_title": true,
   "title_cell": "Table of Contents",
   "title_sidebar": "Contents",
   "toc_cell": false,
   "toc_position": {},
   "toc_section_display": true,
   "toc_window_display": true
  }
 },
 "nbformat": 4,
 "nbformat_minor": 4
}
