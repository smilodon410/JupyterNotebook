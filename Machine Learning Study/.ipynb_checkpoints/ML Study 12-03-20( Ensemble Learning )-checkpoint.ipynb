{
 "cells": [
  {
   "cell_type": "markdown",
   "metadata": {},
   "source": [
    "* 예제는 내장 데이터인 위스콘신주 유방암 데이터 세트를 사용\n",
    "* 사이에 개념을 공부하는 코드들도 섞여있다\n",
    "* ADSP 학습내용을 기반으로 코드를 활용해 보는데 목적을 두었다"
   ]
  },
  {
   "cell_type": "code",
   "execution_count": 1,
   "metadata": {
    "ExecuteTime": {
     "end_time": "2020-12-07T02:07:59.165875Z",
     "start_time": "2020-12-07T02:07:57.615487Z"
    }
   },
   "outputs": [],
   "source": [
    "import pandas as pd\n",
    "\n",
    "from sklearn.ensemble import VotingClassifier\n",
    "from sklearn.linear_model import LogisticRegression\n",
    "from sklearn.neighbors import KNeighborsClassifier\n",
    "from sklearn.datasets import load_breast_cancer\n",
    "from sklearn.model_selection import train_test_split\n",
    "from sklearn.metrics import accuracy_score\n",
    "from sklearn.ensemble import RandomForestClassifier\n",
    "from sklearn.model_selection import GridSearchCV\n",
    "import matplotlib.pyplot as plt\n",
    "import seaborn as sns\n",
    "\n",
    "import warnings\n",
    "\n",
    "warnings.filterwarnings('ignore')"
   ]
  },
  {
   "cell_type": "code",
   "execution_count": 2,
   "metadata": {
    "ExecuteTime": {
     "end_time": "2020-12-07T02:07:59.197755Z",
     "start_time": "2020-12-07T02:07:59.167837Z"
    }
   },
   "outputs": [
    {
     "name": "stdout",
     "output_type": "stream",
     "text": [
      "<class 'pandas.core.frame.DataFrame'>\n",
      "RangeIndex: 569 entries, 0 to 568\n",
      "Data columns (total 30 columns):\n",
      " #   Column                   Non-Null Count  Dtype  \n",
      "---  ------                   --------------  -----  \n",
      " 0   mean radius              569 non-null    float64\n",
      " 1   mean texture             569 non-null    float64\n",
      " 2   mean perimeter           569 non-null    float64\n",
      " 3   mean area                569 non-null    float64\n",
      " 4   mean smoothness          569 non-null    float64\n",
      " 5   mean compactness         569 non-null    float64\n",
      " 6   mean concavity           569 non-null    float64\n",
      " 7   mean concave points      569 non-null    float64\n",
      " 8   mean symmetry            569 non-null    float64\n",
      " 9   mean fractal dimension   569 non-null    float64\n",
      " 10  radius error             569 non-null    float64\n",
      " 11  texture error            569 non-null    float64\n",
      " 12  perimeter error          569 non-null    float64\n",
      " 13  area error               569 non-null    float64\n",
      " 14  smoothness error         569 non-null    float64\n",
      " 15  compactness error        569 non-null    float64\n",
      " 16  concavity error          569 non-null    float64\n",
      " 17  concave points error     569 non-null    float64\n",
      " 18  symmetry error           569 non-null    float64\n",
      " 19  fractal dimension error  569 non-null    float64\n",
      " 20  worst radius             569 non-null    float64\n",
      " 21  worst texture            569 non-null    float64\n",
      " 22  worst perimeter          569 non-null    float64\n",
      " 23  worst area               569 non-null    float64\n",
      " 24  worst smoothness         569 non-null    float64\n",
      " 25  worst compactness        569 non-null    float64\n",
      " 26  worst concavity          569 non-null    float64\n",
      " 27  worst concave points     569 non-null    float64\n",
      " 28  worst symmetry           569 non-null    float64\n",
      " 29  worst fractal dimension  569 non-null    float64\n",
      "dtypes: float64(30)\n",
      "memory usage: 133.5 KB\n"
     ]
    }
   ],
   "source": [
    "# 데이터 Load\n",
    "cancer = load_breast_cancer()\n",
    "\n",
    "df = pd.DataFrame(cancer.data, columns=cancer.feature_names)\n",
    "df.info()"
   ]
  },
  {
   "cell_type": "markdown",
   "metadata": {},
   "source": [
    "## Voting Classifier\n",
    "* 같은 데이터로 다중 분류기 사용"
   ]
  },
  {
   "cell_type": "code",
   "execution_count": 3,
   "metadata": {
    "ExecuteTime": {
     "end_time": "2020-12-07T02:07:59.203736Z",
     "start_time": "2020-12-07T02:07:59.199716Z"
    }
   },
   "outputs": [],
   "source": [
    "# 로지스틱과 KNN 모델 사용\n",
    "lr_clf = LogisticRegression()\n",
    "knn_clf = KNeighborsClassifier()"
   ]
  },
  {
   "cell_type": "code",
   "execution_count": 4,
   "metadata": {
    "ExecuteTime": {
     "end_time": "2020-12-07T02:07:59.216670Z",
     "start_time": "2020-12-07T02:07:59.207695Z"
    }
   },
   "outputs": [],
   "source": [
    "# Voting 방법을 설정해주지 않으면 Default는 hard\n",
    "vo_clf = VotingClassifier(estimators=[('LR', lr_clf), ('KNN', knn_clf)], voting='soft')"
   ]
  },
  {
   "cell_type": "code",
   "execution_count": 5,
   "metadata": {
    "ExecuteTime": {
     "end_time": "2020-12-07T02:07:59.225647Z",
     "start_time": "2020-12-07T02:07:59.218666Z"
    }
   },
   "outputs": [],
   "source": [
    "# 데이터 나누기\n",
    "x_train, x_test, y_train, y_test = train_test_split(cancer.data, cancer.target, test_size=0.2, random_state=150)"
   ]
  },
  {
   "cell_type": "code",
   "execution_count": 6,
   "metadata": {
    "ExecuteTime": {
     "end_time": "2020-12-07T02:07:59.286485Z",
     "start_time": "2020-12-07T02:07:59.227642Z"
    }
   },
   "outputs": [
    {
     "data": {
      "text/plain": [
       "'0.9649'"
      ]
     },
     "execution_count": 6,
     "metadata": {},
     "output_type": "execute_result"
    }
   ],
   "source": [
    "vo_clf.fit(x_train, y_train)\n",
    "pred = vo_clf.predict(x_test)\n",
    "accuracy = accuracy_score(y_test, pred)\n",
    "\n",
    "'{0:.4f}'.format(accuracy)"
   ]
  },
  {
   "cell_type": "code",
   "execution_count": 7,
   "metadata": {
    "ExecuteTime": {
     "end_time": "2020-12-07T02:07:59.336857Z",
     "start_time": "2020-12-07T02:07:59.289477Z"
    }
   },
   "outputs": [
    {
     "name": "stdout",
     "output_type": "stream",
     "text": [
      "LogisticRegression = 0.9561\n",
      "KNeighborsClassifier = 0.9474\n"
     ]
    }
   ],
   "source": [
    "# 개별 모델 정확도\n",
    "clfs = [lr_clf, knn_clf]\n",
    "\n",
    "for clf in clfs:\n",
    "    clf.fit(x_train, y_train)\n",
    "    pred = clf.predict(x_test)\n",
    "    accuracy = accuracy_score(y_test, pred)\n",
    "    name = clf.__class__.__name__\n",
    "    print('{0} = {1:.4f}'.format(name, accuracy))"
   ]
  },
  {
   "cell_type": "markdown",
   "metadata": {},
   "source": [
    "* voting 이 정확도가 조금 더 높지만 무조건 높은 것은 아님!!\n",
    "* 상황에 따라 올바른 모델 선택이 중요!!"
   ]
  },
  {
   "cell_type": "markdown",
   "metadata": {},
   "source": [
    "## RandomForest (Bagging)\n",
    "* Bagging : 데이터를 부트스트랩을 활용하여 나누어 하나의 모델로 학습 후 소프트 보팅을 통해 결과 값 도출\n",
    "* Bagging 기법 중 DecisionTree 를 활용한 모델"
   ]
  },
  {
   "cell_type": "code",
   "execution_count": 8,
   "metadata": {
    "ExecuteTime": {
     "end_time": "2020-12-07T02:07:59.351817Z",
     "start_time": "2020-12-07T02:07:59.339850Z"
    }
   },
   "outputs": [],
   "source": [
    "# DecisionTree 학습 때 사용했던 데이터를 불러온다\n",
    "def add_name_df(name_df):\n",
    "    feature_dup_df = pd.DataFrame(data=name_df.groupby('column_name').cumcount(), columns=['dup_cnt'])\n",
    "    feature_dup_df = feature_dup_df.reset_index()\n",
    "    add_name_df = pd.merge(name_df.reset_index(), feature_dup_df, how='outer')\n",
    "    add_name_df['column_name'] = add_name_df[['column_name', 'dup_cnt']].apply(lambda x :x[0]+'_'+str(x[1]) if x[1] > 0 else x[0] , axis=1)\n",
    "    add_name_df = add_name_df.drop(['index'], axis=1)\n",
    "    \n",
    "    return add_name_df\n",
    "\n",
    "def get_human_dataset():\n",
    "    feature_name_df = pd.read_csv('./ML data/human_activity/features.txt', sep='\\s+', header=None, names=['column_index', 'column_name'])\n",
    "    \n",
    "    new_name_df = add_name_df(feature_name_df)\n",
    "    \n",
    "    feature_name = new_name_df.iloc[:, 1].values.tolist()\n",
    "    \n",
    "    x_train = pd.read_csv('./ML data/human_activity/train/X_train.txt', sep='\\s+', names=feature_name)\n",
    "    x_test = pd.read_csv('./ML data/human_activity/test/X_test.txt', sep='\\s+', names=feature_name)\n",
    "    y_train = pd.read_csv('./ML data/human_activity/train/y_train.txt', sep='\\s+', header=None, names=['action'])\n",
    "    y_test = pd.read_csv('./ML data/human_activity/test/y_test.txt',  sep='\\s+', header=None, names=['action'])\n",
    "    \n",
    "    return x_train, x_test, y_train, y_test"
   ]
  },
  {
   "cell_type": "code",
   "execution_count": 9,
   "metadata": {
    "ExecuteTime": {
     "end_time": "2020-12-07T02:08:03.660532Z",
     "start_time": "2020-12-07T02:07:59.356805Z"
    }
   },
   "outputs": [],
   "source": [
    "x_train, x_test, y_train, y_test = get_human_dataset()"
   ]
  },
  {
   "cell_type": "code",
   "execution_count": 10,
   "metadata": {
    "ExecuteTime": {
     "end_time": "2020-12-07T02:08:14.075661Z",
     "start_time": "2020-12-07T02:08:03.661515Z"
    }
   },
   "outputs": [
    {
     "data": {
      "text/plain": [
       "'0.9237'"
      ]
     },
     "execution_count": 10,
     "metadata": {},
     "output_type": "execute_result"
    }
   ],
   "source": [
    "rf_clf = RandomForestClassifier(random_state=156)\n",
    "rf_clf.fit(x_train, y_train)\n",
    "pred = rf_clf.predict(x_test)\n",
    "accuracy = accuracy_score(y_test, pred)\n",
    "\n",
    "'{0:.4f}'.format(accuracy)"
   ]
  },
  {
   "cell_type": "markdown",
   "metadata": {},
   "source": [
    "* 하이퍼 파라미터\n",
    "* n_estimators : 결정 트리의 개수\n",
    "* max_features : 결정 나무와 같으나 defalut 값이 auto\n",
    "* 결정 트리에 사용되었던 파라미터와 동일하게 사용"
   ]
  },
  {
   "cell_type": "code",
   "execution_count": 11,
   "metadata": {
    "ExecuteTime": {
     "end_time": "2020-12-07T02:09:21.041729Z",
     "start_time": "2020-12-07T02:08:14.077646Z"
    }
   },
   "outputs": [
    {
     "data": {
      "text/plain": [
       "GridSearchCV(cv=2,\n",
       "             estimator=RandomForestClassifier(n_jobs=-1, random_state=156),\n",
       "             n_jobs=-1,\n",
       "             param_grid={'max_depth': [6, 8, 10, 12],\n",
       "                         'min_samples_leaf': [8, 12, 18],\n",
       "                         'min_samples_split': [8, 16, 20],\n",
       "                         'n_estimators': [100]})"
      ]
     },
     "execution_count": 11,
     "metadata": {},
     "output_type": "execute_result"
    }
   ],
   "source": [
    "params = {'n_estimators':[100], 'max_depth':[6, 8, 10, 12], 'min_samples_leaf':[8, 12, 18], 'min_samples_split':[8, 16, 20]}\n",
    "\n",
    "rf_clf = RandomForestClassifier(random_state=156, n_jobs=-1)\n",
    "grid_cv = GridSearchCV(rf_clf, param_grid=params, cv=2, n_jobs=-1)\n",
    "grid_cv.fit(x_train, y_train)"
   ]
  },
  {
   "cell_type": "code",
   "execution_count": 12,
   "metadata": {
    "ExecuteTime": {
     "end_time": "2020-12-07T02:09:21.047712Z",
     "start_time": "2020-12-07T02:09:21.042725Z"
    }
   },
   "outputs": [
    {
     "data": {
      "text/plain": [
       "{'max_depth': 10,\n",
       " 'min_samples_leaf': 12,\n",
       " 'min_samples_split': 8,\n",
       " 'n_estimators': 100}"
      ]
     },
     "execution_count": 12,
     "metadata": {},
     "output_type": "execute_result"
    }
   ],
   "source": [
    "grid_cv.best_params_"
   ]
  },
  {
   "cell_type": "code",
   "execution_count": 13,
   "metadata": {
    "ExecuteTime": {
     "end_time": "2020-12-07T02:09:21.059679Z",
     "start_time": "2020-12-07T02:09:21.049706Z"
    }
   },
   "outputs": [
    {
     "data": {
      "text/plain": [
       "'0.9172'"
      ]
     },
     "execution_count": 13,
     "metadata": {},
     "output_type": "execute_result"
    }
   ],
   "source": [
    "best = grid_cv.best_score_\n",
    "'{0:.4f}'.format(best)"
   ]
  },
  {
   "cell_type": "code",
   "execution_count": 14,
   "metadata": {
    "ExecuteTime": {
     "end_time": "2020-12-07T02:09:44.127000Z",
     "start_time": "2020-12-07T02:09:21.063671Z"
    }
   },
   "outputs": [
    {
     "data": {
      "text/plain": [
       "'0.9203'"
      ]
     },
     "execution_count": 14,
     "metadata": {},
     "output_type": "execute_result"
    }
   ],
   "source": [
    "rf_clf1 = RandomForestClassifier(n_estimators=300, max_depth=10, min_samples_leaf=12, min_samples_split=8, random_state=156)\n",
    "rf_clf1.fit(x_train, y_train)\n",
    "pred = rf_clf1.predict(x_test)\n",
    "accuracy = accuracy_score(y_test, pred)\n",
    "\n",
    "'{0:.4f}'.format(accuracy)"
   ]
  },
  {
   "cell_type": "markdown",
   "metadata": {},
   "source": [
    "* 시각화"
   ]
  },
  {
   "cell_type": "code",
   "execution_count": 15,
   "metadata": {
    "ExecuteTime": {
     "end_time": "2020-12-07T02:09:44.164997Z",
     "start_time": "2020-12-07T02:09:44.129001Z"
    }
   },
   "outputs": [],
   "source": [
    "impo_val = rf_clf1.feature_importances_\n",
    "impo = pd.Series(impo_val, index=x_train.columns)\n",
    "top20 = impo.sort_values(ascending=False)[:20]"
   ]
  },
  {
   "cell_type": "code",
   "execution_count": 16,
   "metadata": {
    "ExecuteTime": {
     "end_time": "2020-12-07T02:09:44.419208Z",
     "start_time": "2020-12-07T02:09:44.165886Z"
    }
   },
   "outputs": [
    {
     "data": {
      "image/png": "[encoded data removed]",
      "text/plain": [
       "<Figure size 576x432 with 1 Axes>"
      ]
     },
     "metadata": {
      "needs_background": "light"
     },
     "output_type": "display_data"
    }
   ],
   "source": [
    "plt.figure(figsize=(8, 6))\n",
    "plt.title('Most Important F Top20')\n",
    "sns.barplot(x=top20, y=top20.index)\n",
    "plt.show()"
   ]
  },
  {
   "cell_type": "markdown",
   "metadata": {},
   "source": [
    "## Boosting\n",
    "### GBM( Gradient Boosting Machine )\n",
    "* 분류, 회귀 모두 가능"
   ]
  },
  {
   "cell_type": "code",
   "execution_count": 17,
   "metadata": {
    "ExecuteTime": {
     "end_time": "2020-12-07T02:09:44.424195Z",
     "start_time": "2020-12-07T02:09:44.421204Z"
    }
   },
   "outputs": [],
   "source": [
    "from sklearn.ensemble import GradientBoostingClassifier\n",
    "import time\n",
    "import warnings\n",
    "\n",
    "warnings.filterwarnings('ignore')"
   ]
  },
  {
   "cell_type": "code",
   "execution_count": 18,
   "metadata": {
    "ExecuteTime": {
     "end_time": "2020-12-07T02:09:48.743643Z",
     "start_time": "2020-12-07T02:09:44.425193Z"
    }
   },
   "outputs": [],
   "source": [
    "# 데이터 Load\n",
    "# DecisionTree 와 같은 데이터 셋 사용\n",
    "\n",
    "x_train, x_test, y_train, y_test = get_human_dataset()"
   ]
  },
  {
   "cell_type": "code",
   "execution_count": 19,
   "metadata": {
    "ExecuteTime": {
     "end_time": "2020-12-07T02:20:30.240717Z",
     "start_time": "2020-12-07T02:09:48.744640Z"
    }
   },
   "outputs": [
    {
     "name": "stdout",
     "output_type": "stream",
     "text": [
      "수행시간: 641.5\n",
      "0.9389\n"
     ]
    }
   ],
   "source": [
    "# GBM 수행시간 측정을 위함\n",
    "start_time = time.time()\n",
    "\n",
    "gb_clf = GradientBoostingClassifier(random_state=156)\n",
    "gb_clf.fit(x_train, y_train)\n",
    "gb_pred = gb_clf.predict(x_test)\n",
    "gb_accuracy = accuracy_score(y_test, gb_pred)\n",
    "\n",
    "print('수행시간: {0:.1f}'.format(time.time() - start_time))\n",
    "print('{0:.4f}'.format(gb_accuracy))"
   ]
  },
  {
   "cell_type": "markdown",
   "metadata": {},
   "source": [
    "* 하이퍼 파라미터"
   ]
  },
  {
   "cell_type": "code",
   "execution_count": 22,
   "metadata": {
    "ExecuteTime": {
     "end_time": "2020-12-07T06:02:42.260748Z",
     "start_time": "2020-12-07T04:32:16.178566Z"
    }
   },
   "outputs": [
    {
     "name": "stdout",
     "output_type": "stream",
     "text": [
      "Fitting 2 folds for each of 4 candidates, totalling 8 fits\n"
     ]
    },
    {
     "name": "stderr",
     "output_type": "stream",
     "text": [
      "[Parallel(n_jobs=-1)]: Using backend LokyBackend with 4 concurrent workers.\n",
      "[Parallel(n_jobs=-1)]: Done   8 out of   8 | elapsed: 36.3min finished\n"
     ]
    },
    {
     "data": {
      "text/plain": [
       "GridSearchCV(cv=2, estimator=GradientBoostingClassifier(random_state=156),\n",
       "             n_jobs=-1,\n",
       "             param_grid={'learning_rate': [0.05, 0.1],\n",
       "                         'n_estimators': [100, 500]},\n",
       "             verbose=1)"
      ]
     },
     "execution_count": 22,
     "metadata": {},
     "output_type": "execute_result"
    }
   ],
   "source": [
    "params = {'n_estimators':[100, 500], 'learning_rate':[0.05, 0.1]}\n",
    "\n",
    "grid_cv = GridSearchCV(gb_clf, param_grid=params, cv=2, verbose=1, n_jobs=-1)\n",
    "grid_cv.fit(x_train, y_train)"
   ]
  },
  {
   "cell_type": "code",
   "execution_count": 23,
   "metadata": {
    "ExecuteTime": {
     "end_time": "2020-12-07T07:22:30.381482Z",
     "start_time": "2020-12-07T07:22:30.365523Z"
    }
   },
   "outputs": [
    {
     "data": {
      "text/plain": [
       "{'learning_rate': 0.1, 'n_estimators': 500}"
      ]
     },
     "execution_count": 23,
     "metadata": {},
     "output_type": "execute_result"
    }
   ],
   "source": [
    "grid_cv.best_params_"
   ]
  },
  {
   "cell_type": "code",
   "execution_count": 25,
   "metadata": {
    "ExecuteTime": {
     "end_time": "2020-12-07T07:22:43.845486Z",
     "start_time": "2020-12-07T07:22:43.840526Z"
    }
   },
   "outputs": [
    {
     "data": {
      "text/plain": [
       "'0.9007'"
      ]
     },
     "execution_count": 25,
     "metadata": {},
     "output_type": "execute_result"
    }
   ],
   "source": [
    "'{0:.4f}'.format(grid_cv.best_score_)"
   ]
  },
  {
   "cell_type": "code",
   "execution_count": 26,
   "metadata": {
    "ExecuteTime": {
     "end_time": "2020-12-07T07:22:56.552887Z",
     "start_time": "2020-12-07T07:22:56.326459Z"
    }
   },
   "outputs": [
    {
     "data": {
      "text/plain": [
       "'0.9420'"
      ]
     },
     "execution_count": 26,
     "metadata": {},
     "output_type": "execute_result"
    }
   ],
   "source": [
    "gb_pred = grid_cv.best_estimator_.predict(x_test)\n",
    "gb_accuracy = accuracy_score(y_test, gb_pred)\n",
    "\n",
    "'{0:.4f}'.format(gb_accuracy)"
   ]
  },
  {
   "cell_type": "code",
   "execution_count": null,
   "metadata": {},
   "outputs": [],
   "source": []
  },
  {
   "cell_type": "code",
   "execution_count": null,
   "metadata": {},
   "outputs": [],
   "source": []
  }
 ],
 "metadata": {
  "kernelspec": {
   "display_name": "Python 3",
   "language": "python",
   "name": "python3"
  },
  "language_info": {
   "codemirror_mode": {
    "name": "ipython",
    "version": 3
   },
   "file_extension": ".py",
   "mimetype": "text/x-python",
   "name": "python",
   "nbconvert_exporter": "python",
   "pygments_lexer": "ipython3",
   "version": "3.8.3"
  },
  "toc": {
   "base_numbering": 1,
   "nav_menu": {},
   "number_sections": true,
   "sideBar": true,
   "skip_h1_title": true,
   "title_cell": "Table of Contents",
   "title_sidebar": "Contents",
   "toc_cell": false,
   "toc_position": {},
   "toc_section_display": true,
   "toc_window_display": true
  }
 },
 "nbformat": 4,
 "nbformat_minor": 4
}
